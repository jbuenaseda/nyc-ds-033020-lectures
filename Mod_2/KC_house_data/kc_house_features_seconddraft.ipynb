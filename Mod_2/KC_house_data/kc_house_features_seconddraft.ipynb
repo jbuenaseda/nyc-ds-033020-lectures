{
 "cells": [
  {
   "cell_type": "markdown",
   "metadata": {},
   "source": [
    "IMPORT MODULES"
   ]
  },
  {
   "cell_type": "code",
   "execution_count": 3,
   "metadata": {
    "scrolled": true
   },
   "outputs": [],
   "source": [
    "import pandas as pd\n",
    "import matplotlib.pyplot as plt\n",
    "import seaborn as sns\n",
    "import numpy as np\n",
    "import statsmodels.api as sm\n",
    "from statsmodels.formula.api import ols\n",
    "from sklearn.model_selection import train_test_split\n",
    "from sklearn.linear_model import LinearRegression\n",
    "from sklearn.linear_model import Lasso\n",
    "from sklearn.preprocessing import StandardScaler\n",
    "from sklearn import metrics"
   ]
  },
  {
   "cell_type": "markdown",
   "metadata": {},
   "source": [
    "---"
   ]
  },
  {
   "cell_type": "code",
   "execution_count": 4,
   "metadata": {},
   "outputs": [],
   "source": [
    "test_features = pd.read_csv('kc_house_data_test_features.csv', index_col=0)"
   ]
  },
  {
   "cell_type": "code",
   "execution_count": 5,
   "metadata": {},
   "outputs": [],
   "source": [
    "training_data = pd.read_csv('kc_house_data_train.csv', index_col=0)"
   ]
  },
  {
   "cell_type": "code",
   "execution_count": 6,
   "metadata": {},
   "outputs": [],
   "source": [
    "categorical = ['floors', 'waterfront', 'view', 'condition', 'grade', 'zipcode']\n",
    "continuous = ['sqft_living', 'bedrooms', 'bathrooms', 'sqft_lot', 'sqft_above', 'sqft_basement', 'sqft_living15', 'sqft_lot15']\n",
    "price = training_data['price']"
   ]
  },
  {
   "cell_type": "code",
   "execution_count": 146,
   "metadata": {},
   "outputs": [
    {
     "name": "stdout",
     "output_type": "stream",
     "text": [
      "price min: 75000.0\n",
      "price max: 7700000.0\n",
      "price mean: 540739.5486408329\n",
      "price median: 450000.0\n"
     ]
    }
   ],
   "source": [
    "#numbers to measure against when getting RMSE or MSE\n",
    "\n",
    "print('price min:', price.min())\n",
    "print('price max:', price.max())\n",
    "print('price mean:', price.mean())\n",
    "print('price median:', price.median())"
   ]
  },
  {
   "cell_type": "code",
   "execution_count": 7,
   "metadata": {},
   "outputs": [],
   "source": [
    "cont_data = training_data[continuous]\n",
    "cat_data = training_data[categorical]"
   ]
  },
  {
   "cell_type": "markdown",
   "metadata": {},
   "source": [
    "---"
   ]
  },
  {
   "cell_type": "code",
   "execution_count": 8,
   "metadata": {
    "scrolled": true
   },
   "outputs": [
    {
     "data": {
      "text/html": [
       "<div>\n",
       "<style scoped>\n",
       "    .dataframe tbody tr th:only-of-type {\n",
       "        vertical-align: middle;\n",
       "    }\n",
       "\n",
       "    .dataframe tbody tr th {\n",
       "        vertical-align: top;\n",
       "    }\n",
       "\n",
       "    .dataframe thead th {\n",
       "        text-align: right;\n",
       "    }\n",
       "</style>\n",
       "<table border=\"1\" class=\"dataframe\">\n",
       "  <thead>\n",
       "    <tr style=\"text-align: right;\">\n",
       "      <th></th>\n",
       "      <th>price</th>\n",
       "      <th>sqft_living</th>\n",
       "      <th>bedrooms</th>\n",
       "      <th>bathrooms</th>\n",
       "      <th>sqft_lot</th>\n",
       "      <th>sqft_above</th>\n",
       "      <th>sqft_basement</th>\n",
       "      <th>sqft_living15</th>\n",
       "      <th>sqft_lot15</th>\n",
       "    </tr>\n",
       "  </thead>\n",
       "  <tbody>\n",
       "    <tr>\n",
       "      <th>price</th>\n",
       "      <td>1.000000</td>\n",
       "      <td>0.703540</td>\n",
       "      <td>0.305106</td>\n",
       "      <td>0.524335</td>\n",
       "      <td>0.086803</td>\n",
       "      <td>0.607760</td>\n",
       "      <td>0.323312</td>\n",
       "      <td>0.585567</td>\n",
       "      <td>0.081423</td>\n",
       "    </tr>\n",
       "    <tr>\n",
       "      <th>sqft_living</th>\n",
       "      <td>0.703540</td>\n",
       "      <td>1.000000</td>\n",
       "      <td>0.570428</td>\n",
       "      <td>0.755270</td>\n",
       "      <td>0.166810</td>\n",
       "      <td>0.876696</td>\n",
       "      <td>0.435529</td>\n",
       "      <td>0.755066</td>\n",
       "      <td>0.179570</td>\n",
       "    </tr>\n",
       "    <tr>\n",
       "      <th>bedrooms</th>\n",
       "      <td>0.305106</td>\n",
       "      <td>0.570428</td>\n",
       "      <td>1.000000</td>\n",
       "      <td>0.507867</td>\n",
       "      <td>0.029375</td>\n",
       "      <td>0.472492</td>\n",
       "      <td>0.300085</td>\n",
       "      <td>0.387589</td>\n",
       "      <td>0.026665</td>\n",
       "    </tr>\n",
       "    <tr>\n",
       "      <th>bathrooms</th>\n",
       "      <td>0.524335</td>\n",
       "      <td>0.755270</td>\n",
       "      <td>0.507867</td>\n",
       "      <td>1.000000</td>\n",
       "      <td>0.085470</td>\n",
       "      <td>0.686853</td>\n",
       "      <td>0.282700</td>\n",
       "      <td>0.568080</td>\n",
       "      <td>0.086499</td>\n",
       "    </tr>\n",
       "    <tr>\n",
       "      <th>sqft_lot</th>\n",
       "      <td>0.086803</td>\n",
       "      <td>0.166810</td>\n",
       "      <td>0.029375</td>\n",
       "      <td>0.085470</td>\n",
       "      <td>1.000000</td>\n",
       "      <td>0.180755</td>\n",
       "      <td>0.008065</td>\n",
       "      <td>0.136959</td>\n",
       "      <td>0.701875</td>\n",
       "    </tr>\n",
       "    <tr>\n",
       "      <th>sqft_above</th>\n",
       "      <td>0.607760</td>\n",
       "      <td>0.876696</td>\n",
       "      <td>0.472492</td>\n",
       "      <td>0.686853</td>\n",
       "      <td>0.180755</td>\n",
       "      <td>1.000000</td>\n",
       "      <td>-0.051199</td>\n",
       "      <td>0.731077</td>\n",
       "      <td>0.193874</td>\n",
       "    </tr>\n",
       "    <tr>\n",
       "      <th>sqft_basement</th>\n",
       "      <td>0.323312</td>\n",
       "      <td>0.435529</td>\n",
       "      <td>0.300085</td>\n",
       "      <td>0.282700</td>\n",
       "      <td>0.008065</td>\n",
       "      <td>-0.051199</td>\n",
       "      <td>1.000000</td>\n",
       "      <td>0.199521</td>\n",
       "      <td>0.010007</td>\n",
       "    </tr>\n",
       "    <tr>\n",
       "      <th>sqft_living15</th>\n",
       "      <td>0.585567</td>\n",
       "      <td>0.755066</td>\n",
       "      <td>0.387589</td>\n",
       "      <td>0.568080</td>\n",
       "      <td>0.136959</td>\n",
       "      <td>0.731077</td>\n",
       "      <td>0.199521</td>\n",
       "      <td>1.000000</td>\n",
       "      <td>0.178533</td>\n",
       "    </tr>\n",
       "    <tr>\n",
       "      <th>sqft_lot15</th>\n",
       "      <td>0.081423</td>\n",
       "      <td>0.179570</td>\n",
       "      <td>0.026665</td>\n",
       "      <td>0.086499</td>\n",
       "      <td>0.701875</td>\n",
       "      <td>0.193874</td>\n",
       "      <td>0.010007</td>\n",
       "      <td>0.178533</td>\n",
       "      <td>1.000000</td>\n",
       "    </tr>\n",
       "  </tbody>\n",
       "</table>\n",
       "</div>"
      ],
      "text/plain": [
       "                  price  sqft_living  bedrooms  bathrooms  sqft_lot  \\\n",
       "price          1.000000     0.703540  0.305106   0.524335  0.086803   \n",
       "sqft_living    0.703540     1.000000  0.570428   0.755270  0.166810   \n",
       "bedrooms       0.305106     0.570428  1.000000   0.507867  0.029375   \n",
       "bathrooms      0.524335     0.755270  0.507867   1.000000  0.085470   \n",
       "sqft_lot       0.086803     0.166810  0.029375   0.085470  1.000000   \n",
       "sqft_above     0.607760     0.876696  0.472492   0.686853  0.180755   \n",
       "sqft_basement  0.323312     0.435529  0.300085   0.282700  0.008065   \n",
       "sqft_living15  0.585567     0.755066  0.387589   0.568080  0.136959   \n",
       "sqft_lot15     0.081423     0.179570  0.026665   0.086499  0.701875   \n",
       "\n",
       "               sqft_above  sqft_basement  sqft_living15  sqft_lot15  \n",
       "price            0.607760       0.323312       0.585567    0.081423  \n",
       "sqft_living      0.876696       0.435529       0.755066    0.179570  \n",
       "bedrooms         0.472492       0.300085       0.387589    0.026665  \n",
       "bathrooms        0.686853       0.282700       0.568080    0.086499  \n",
       "sqft_lot         0.180755       0.008065       0.136959    0.701875  \n",
       "sqft_above       1.000000      -0.051199       0.731077    0.193874  \n",
       "sqft_basement   -0.051199       1.000000       0.199521    0.010007  \n",
       "sqft_living15    0.731077       0.199521       1.000000    0.178533  \n",
       "sqft_lot15       0.193874       0.010007       0.178533    1.000000  "
      ]
     },
     "execution_count": 8,
     "metadata": {},
     "output_type": "execute_result"
    }
   ],
   "source": [
    "cont_data.corr() "
   ]
  },
  {
   "cell_type": "code",
   "execution_count": 9,
   "metadata": {
    "scrolled": true
   },
   "outputs": [
    {
     "data": {
      "text/html": [
       "<div>\n",
       "<style scoped>\n",
       "    .dataframe tbody tr th:only-of-type {\n",
       "        vertical-align: middle;\n",
       "    }\n",
       "\n",
       "    .dataframe tbody tr th {\n",
       "        vertical-align: top;\n",
       "    }\n",
       "\n",
       "    .dataframe thead th {\n",
       "        text-align: right;\n",
       "    }\n",
       "</style>\n",
       "<table border=\"1\" class=\"dataframe\">\n",
       "  <thead>\n",
       "    <tr style=\"text-align: right;\">\n",
       "      <th></th>\n",
       "      <th>floors</th>\n",
       "      <th>waterfront</th>\n",
       "      <th>view</th>\n",
       "      <th>condition</th>\n",
       "      <th>grade</th>\n",
       "      <th>zipcode</th>\n",
       "    </tr>\n",
       "  </thead>\n",
       "  <tbody>\n",
       "    <tr>\n",
       "      <th>floors</th>\n",
       "      <td>1.000000</td>\n",
       "      <td>0.025132</td>\n",
       "      <td>0.025883</td>\n",
       "      <td>-0.259230</td>\n",
       "      <td>0.458984</td>\n",
       "      <td>-0.060560</td>\n",
       "    </tr>\n",
       "    <tr>\n",
       "      <th>waterfront</th>\n",
       "      <td>0.025132</td>\n",
       "      <td>1.000000</td>\n",
       "      <td>0.407565</td>\n",
       "      <td>0.009608</td>\n",
       "      <td>0.092234</td>\n",
       "      <td>0.034282</td>\n",
       "    </tr>\n",
       "    <tr>\n",
       "      <th>view</th>\n",
       "      <td>0.025883</td>\n",
       "      <td>0.407565</td>\n",
       "      <td>1.000000</td>\n",
       "      <td>0.045060</td>\n",
       "      <td>0.249554</td>\n",
       "      <td>0.089475</td>\n",
       "    </tr>\n",
       "    <tr>\n",
       "      <th>condition</th>\n",
       "      <td>-0.259230</td>\n",
       "      <td>0.009608</td>\n",
       "      <td>0.045060</td>\n",
       "      <td>1.000000</td>\n",
       "      <td>-0.142066</td>\n",
       "      <td>0.007068</td>\n",
       "    </tr>\n",
       "    <tr>\n",
       "      <th>grade</th>\n",
       "      <td>0.458984</td>\n",
       "      <td>0.092234</td>\n",
       "      <td>0.249554</td>\n",
       "      <td>-0.142066</td>\n",
       "      <td>1.000000</td>\n",
       "      <td>-0.184946</td>\n",
       "    </tr>\n",
       "    <tr>\n",
       "      <th>zipcode</th>\n",
       "      <td>-0.060560</td>\n",
       "      <td>0.034282</td>\n",
       "      <td>0.089475</td>\n",
       "      <td>0.007068</td>\n",
       "      <td>-0.184946</td>\n",
       "      <td>1.000000</td>\n",
       "    </tr>\n",
       "  </tbody>\n",
       "</table>\n",
       "</div>"
      ],
      "text/plain": [
       "              floors  waterfront      view  condition     grade   zipcode\n",
       "floors      1.000000    0.025132  0.025883  -0.259230  0.458984 -0.060560\n",
       "waterfront  0.025132    1.000000  0.407565   0.009608  0.092234  0.034282\n",
       "view        0.025883    0.407565  1.000000   0.045060  0.249554  0.089475\n",
       "condition  -0.259230    0.009608  0.045060   1.000000 -0.142066  0.007068\n",
       "grade       0.458984    0.092234  0.249554  -0.142066  1.000000 -0.184946\n",
       "zipcode    -0.060560    0.034282  0.089475   0.007068 -0.184946  1.000000"
      ]
     },
     "execution_count": 9,
     "metadata": {},
     "output_type": "execute_result"
    }
   ],
   "source": [
    "cat_data.corr() "
   ]
  },
  {
   "cell_type": "code",
   "execution_count": 10,
   "metadata": {},
   "outputs": [],
   "source": [
    "#choosing 3 cont variables + 3 categorical vars\n",
    "features = ['sqft_living', 'bedrooms', 'bathrooms', 'grade', 'waterfront', 'view']"
   ]
  },
  {
   "cell_type": "code",
   "execution_count": 150,
   "metadata": {},
   "outputs": [],
   "source": [
    "#feature engineering\n",
    "\n",
    "#if a house has 1 or more views, it's a 1 otherwise a 0\n",
    "training_data['view_bin'] = np.where(training_data['view'].values >= 1, 1,0)\n",
    "training_data['bedrooms'] = np.where((training_data.bedrooms > 6),6,training_data['bedrooms'])"
   ]
  },
  {
   "cell_type": "code",
   "execution_count": 153,
   "metadata": {},
   "outputs": [],
   "source": [
    "# Continuous features to scale \n",
    "#living = training_data['sqft_living']\n",
    "logliving = np.log(training_data['sqft_living'])\n",
    "bed = training_data['bedrooms']\n",
    "bath = training_data['bathrooms']"
   ]
  },
  {
   "cell_type": "code",
   "execution_count": 154,
   "metadata": {},
   "outputs": [],
   "source": [
    "# Scale the features\n",
    "scaler = StandardScaler()\n",
    "#scaled_living = scaler.fit_transform(training_data[['sqft_living']])\n",
    "scaled_livinglog = scaler.fit_transform(np.log(training_data[['sqft_living']]))\n",
    "scaled_bed = scaler.fit_transform(training_data[['bedrooms']])\n",
    "scaled_bath = scaler.fit_transform(training_data[['bathrooms']])"
   ]
  },
  {
   "cell_type": "code",
   "execution_count": 155,
   "metadata": {},
   "outputs": [],
   "source": [
    "# Create a dataframe with scaled features\n",
    "data_fin = pd.DataFrame([])\n",
    "data_fin['living'] = scaled_livinglog.flatten()\n",
    "data_fin['bed'] = scaled_bed.flatten()\n",
    "data_fin['bath'] = scaled_bath.flatten()"
   ]
  },
  {
   "cell_type": "code",
   "execution_count": 156,
   "metadata": {},
   "outputs": [],
   "source": [
    "# Create dummies for categorical features\n",
    "grade_dummies = pd.get_dummies(training_data['grade'], prefix='grade', drop_first=True)\n",
    "water = training_data['waterfront']\n",
    "view = training_data['view_bin']"
   ]
  },
  {
   "cell_type": "code",
   "execution_count": 157,
   "metadata": {},
   "outputs": [],
   "source": [
    "#drop the grade dummies with high p-values\n",
    "grade_dummies.drop(columns=['grade_3','grade_4', 'grade_5', 'grade_6', 'grade_7', 'grade_8'], inplace=True)"
   ]
  },
  {
   "cell_type": "code",
   "execution_count": 158,
   "metadata": {},
   "outputs": [],
   "source": [
    "#separate the result\n",
    "price = training_data['price']"
   ]
  },
  {
   "cell_type": "code",
   "execution_count": 159,
   "metadata": {},
   "outputs": [],
   "source": [
    "# Concat with dataframe \n",
    "data_fin = pd.concat([price, data_fin, grade_dummies, water, view], axis=1)"
   ]
  },
  {
   "cell_type": "code",
   "execution_count": 140,
   "metadata": {},
   "outputs": [],
   "source": [
    "#data_fin"
   ]
  },
  {
   "cell_type": "code",
   "execution_count": 160,
   "metadata": {},
   "outputs": [
    {
     "data": {
      "text/html": [
       "<table class=\"simpletable\">\n",
       "<caption>OLS Regression Results</caption>\n",
       "<tr>\n",
       "  <th>Dep. Variable:</th>          <td>price</td>      <th>  R-squared:         </th>  <td>   0.611</td>  \n",
       "</tr>\n",
       "<tr>\n",
       "  <th>Model:</th>                   <td>OLS</td>       <th>  Adj. R-squared:    </th>  <td>   0.611</td>  \n",
       "</tr>\n",
       "<tr>\n",
       "  <th>Method:</th>             <td>Least Squares</td>  <th>  F-statistic:       </th>  <td>   2717.</td>  \n",
       "</tr>\n",
       "<tr>\n",
       "  <th>Date:</th>             <td>Sat, 02 May 2020</td> <th>  Prob (F-statistic):</th>   <td>  0.00</td>   \n",
       "</tr>\n",
       "<tr>\n",
       "  <th>Time:</th>                 <td>14:59:26</td>     <th>  Log-Likelihood:    </th> <td>-2.3820e+05</td>\n",
       "</tr>\n",
       "<tr>\n",
       "  <th>No. Observations:</th>      <td> 17290</td>      <th>  AIC:               </th>  <td>4.764e+05</td> \n",
       "</tr>\n",
       "<tr>\n",
       "  <th>Df Residuals:</th>          <td> 17279</td>      <th>  BIC:               </th>  <td>4.765e+05</td> \n",
       "</tr>\n",
       "<tr>\n",
       "  <th>Df Model:</th>              <td>    10</td>      <th>                     </th>      <td> </td>     \n",
       "</tr>\n",
       "<tr>\n",
       "  <th>Covariance Type:</th>      <td>nonrobust</td>    <th>                     </th>      <td> </td>     \n",
       "</tr>\n",
       "</table>\n",
       "<table class=\"simpletable\">\n",
       "<tr>\n",
       "       <td></td>         <th>coef</th>     <th>std err</th>      <th>t</th>      <th>P>|t|</th>  <th>[0.025</th>    <th>0.975]</th>  \n",
       "</tr>\n",
       "<tr>\n",
       "  <th>Intercept</th>  <td> 4.572e+05</td> <td> 2151.478</td> <td>  212.517</td> <td> 0.000</td> <td> 4.53e+05</td> <td> 4.61e+05</td>\n",
       "</tr>\n",
       "<tr>\n",
       "  <th>living</th>     <td> 1.058e+05</td> <td> 3363.617</td> <td>   31.447</td> <td> 0.000</td> <td> 9.92e+04</td> <td> 1.12e+05</td>\n",
       "</tr>\n",
       "<tr>\n",
       "  <th>bed</th>        <td>-7684.9691</td> <td> 2361.431</td> <td>   -3.254</td> <td> 0.001</td> <td>-1.23e+04</td> <td>-3056.326</td>\n",
       "</tr>\n",
       "<tr>\n",
       "  <th>bath</th>       <td> 2.283e+04</td> <td> 2770.988</td> <td>    8.240</td> <td> 0.000</td> <td> 1.74e+04</td> <td> 2.83e+04</td>\n",
       "</tr>\n",
       "<tr>\n",
       "  <th>grade_9</th>    <td> 1.739e+05</td> <td> 6113.809</td> <td>   28.441</td> <td> 0.000</td> <td> 1.62e+05</td> <td> 1.86e+05</td>\n",
       "</tr>\n",
       "<tr>\n",
       "  <th>grade_10</th>   <td>  3.89e+05</td> <td> 8979.888</td> <td>   43.315</td> <td> 0.000</td> <td> 3.71e+05</td> <td> 4.07e+05</td>\n",
       "</tr>\n",
       "<tr>\n",
       "  <th>grade_11</th>   <td> 7.144e+05</td> <td> 1.43e+04</td> <td>   50.037</td> <td> 0.000</td> <td> 6.86e+05</td> <td> 7.42e+05</td>\n",
       "</tr>\n",
       "<tr>\n",
       "  <th>grade_12</th>   <td> 1.358e+06</td> <td> 2.85e+04</td> <td>   47.587</td> <td> 0.000</td> <td>  1.3e+06</td> <td> 1.41e+06</td>\n",
       "</tr>\n",
       "<tr>\n",
       "  <th>grade_13</th>   <td> 3.021e+06</td> <td> 7.09e+04</td> <td>   42.583</td> <td> 0.000</td> <td> 2.88e+06</td> <td> 3.16e+06</td>\n",
       "</tr>\n",
       "<tr>\n",
       "  <th>waterfront</th> <td> 6.585e+05</td> <td> 2.08e+04</td> <td>   31.673</td> <td> 0.000</td> <td> 6.18e+05</td> <td> 6.99e+05</td>\n",
       "</tr>\n",
       "<tr>\n",
       "  <th>view_bin</th>   <td>  1.64e+05</td> <td> 6350.072</td> <td>   25.824</td> <td> 0.000</td> <td> 1.52e+05</td> <td> 1.76e+05</td>\n",
       "</tr>\n",
       "</table>\n",
       "<table class=\"simpletable\">\n",
       "<tr>\n",
       "  <th>Omnibus:</th>       <td>10701.995</td> <th>  Durbin-Watson:     </th>  <td>   2.019</td> \n",
       "</tr>\n",
       "<tr>\n",
       "  <th>Prob(Omnibus):</th>  <td> 0.000</td>   <th>  Jarque-Bera (JB):  </th> <td>420026.418</td>\n",
       "</tr>\n",
       "<tr>\n",
       "  <th>Skew:</th>           <td> 2.390</td>   <th>  Prob(JB):          </th>  <td>    0.00</td> \n",
       "</tr>\n",
       "<tr>\n",
       "  <th>Kurtosis:</th>       <td>26.668</td>   <th>  Cond. No.          </th>  <td>    60.9</td> \n",
       "</tr>\n",
       "</table><br/><br/>Warnings:<br/>[1] Standard Errors assume that the covariance matrix of the errors is correctly specified."
      ],
      "text/plain": [
       "<class 'statsmodels.iolib.summary.Summary'>\n",
       "\"\"\"\n",
       "                            OLS Regression Results                            \n",
       "==============================================================================\n",
       "Dep. Variable:                  price   R-squared:                       0.611\n",
       "Model:                            OLS   Adj. R-squared:                  0.611\n",
       "Method:                 Least Squares   F-statistic:                     2717.\n",
       "Date:                Sat, 02 May 2020   Prob (F-statistic):               0.00\n",
       "Time:                        14:59:26   Log-Likelihood:            -2.3820e+05\n",
       "No. Observations:               17290   AIC:                         4.764e+05\n",
       "Df Residuals:                   17279   BIC:                         4.765e+05\n",
       "Df Model:                          10                                         \n",
       "Covariance Type:            nonrobust                                         \n",
       "==============================================================================\n",
       "                 coef    std err          t      P>|t|      [0.025      0.975]\n",
       "------------------------------------------------------------------------------\n",
       "Intercept   4.572e+05   2151.478    212.517      0.000    4.53e+05    4.61e+05\n",
       "living      1.058e+05   3363.617     31.447      0.000    9.92e+04    1.12e+05\n",
       "bed        -7684.9691   2361.431     -3.254      0.001   -1.23e+04   -3056.326\n",
       "bath        2.283e+04   2770.988      8.240      0.000    1.74e+04    2.83e+04\n",
       "grade_9     1.739e+05   6113.809     28.441      0.000    1.62e+05    1.86e+05\n",
       "grade_10     3.89e+05   8979.888     43.315      0.000    3.71e+05    4.07e+05\n",
       "grade_11    7.144e+05   1.43e+04     50.037      0.000    6.86e+05    7.42e+05\n",
       "grade_12    1.358e+06   2.85e+04     47.587      0.000     1.3e+06    1.41e+06\n",
       "grade_13    3.021e+06   7.09e+04     42.583      0.000    2.88e+06    3.16e+06\n",
       "waterfront  6.585e+05   2.08e+04     31.673      0.000    6.18e+05    6.99e+05\n",
       "view_bin     1.64e+05   6350.072     25.824      0.000    1.52e+05    1.76e+05\n",
       "==============================================================================\n",
       "Omnibus:                    10701.995   Durbin-Watson:                   2.019\n",
       "Prob(Omnibus):                  0.000   Jarque-Bera (JB):           420026.418\n",
       "Skew:                           2.390   Prob(JB):                         0.00\n",
       "Kurtosis:                      26.668   Cond. No.                         60.9\n",
       "==============================================================================\n",
       "\n",
       "Warnings:\n",
       "[1] Standard Errors assume that the covariance matrix of the errors is correctly specified.\n",
       "\"\"\""
      ]
     },
     "execution_count": 160,
     "metadata": {},
     "output_type": "execute_result"
    }
   ],
   "source": [
    "# Create model\n",
    "outcome = 'price'\n",
    "predictors = data_fin.drop('price', axis=1)\n",
    "pred_sum = '+'.join(predictors.columns)\n",
    "formula = outcome + '~' + pred_sum\n",
    "model = ols(formula=formula, data=data_fin).fit()\n",
    "model.summary()"
   ]
  },
  {
   "cell_type": "code",
   "execution_count": 161,
   "metadata": {},
   "outputs": [
    {
     "name": "stdout",
     "output_type": "stream",
     "text": [
      "Train Mean Squarred Error: price    5.500512e+10\n",
      "dtype: float64\n",
      "Test Mean Squarred Error: price    5.095957e+10\n",
      "dtype: float64\n"
     ]
    }
   ],
   "source": [
    "# Test models\n",
    "\n",
    "# Get a subset of the features and set to x and y\n",
    "\n",
    "y = data_fin[['price']]\n",
    "X = data_fin.drop(['price'], axis=1)\n",
    "\n",
    "#from sklearn.model_selection import train_test_split\n",
    "X_train, X_test, y_train, y_test = train_test_split(X, y, test_size=0.2, random_state=42)\n",
    "\n",
    "#from sklearn.linear_model import LinearRegression\n",
    "linreg = LinearRegression()\n",
    "linreg.fit(X_train, y_train)\n",
    "\n",
    "y_hat_train = linreg.predict(X_train)\n",
    "y_hat_test = linreg.predict(X_test)\n",
    "\n",
    "train_residuals = y_hat_train - y_train\n",
    "test_residuals = y_hat_test - y_test\n",
    "\n",
    "mse_train = np.sum((y_train-y_hat_train)**2)/len(y_train)\n",
    "mse_test = np.sum((y_test-y_hat_test)**2)/len(y_test)\n",
    "print('Train Mean Squarred Error:', mse_train)\n",
    "print('Test Mean Squarred Error:', mse_test)\n",
    "\n",
    "# Pickle"
   ]
  },
  {
   "cell_type": "code",
   "execution_count": 162,
   "metadata": {},
   "outputs": [
    {
     "name": "stdout",
     "output_type": "stream",
     "text": [
      "Training Error: 155844.5868865144\n",
      "Testing Error: 225742.22061875556\n"
     ]
    }
   ],
   "source": [
    "## training the model with lasso\n",
    "\n",
    "lasso = Lasso(alpha=0.01, normalize=False)\n",
    "\n",
    "lasso.fit(X_train,y_train)\n",
    "\n",
    "y_train_pred = lasso.predict(X_train)\n",
    "y_pred = lasso.predict(X_test)\n",
    "\n",
    "train_rmse = metrics.mean_absolute_error(y_train, y_train_pred)\n",
    "test_rmse = np.sqrt(metrics.mean_squared_error(y_test, y_pred))\n",
    "print('Training Error: '+ str(train_rmse) )\n",
    "print('Testing Error: '+ str(test_rmse) )"
   ]
  },
  {
   "cell_type": "code",
   "execution_count": 163,
   "metadata": {},
   "outputs": [
    {
     "name": "stdout",
     "output_type": "stream",
     "text": [
      "0.02043863434577238\n",
      "0.029605537130328596\n"
     ]
    }
   ],
   "source": [
    "#the difference between maximum and minimum: NRMSE=RMSEymax−ymin\n",
    "print(train_rmse/(max(price)-min(price)))\n",
    "print(test_rmse/(max(price)-min(price)))"
   ]
  },
  {
   "cell_type": "code",
   "execution_count": 166,
   "metadata": {},
   "outputs": [
    {
     "name": "stdout",
     "output_type": "stream",
     "text": [
      "0.288206378242973\n",
      "0.41746941052520803\n"
     ]
    }
   ],
   "source": [
    "#the mean: NRMSE=RMSE¯\n",
    "print(train_rmse/price.mean())\n",
    "print(test_rmse/price.mean())"
   ]
  },
  {
   "cell_type": "code",
   "execution_count": 168,
   "metadata": {
    "scrolled": true
   },
   "outputs": [
    {
     "data": {
      "text/html": [
       "<div>\n",
       "<style scoped>\n",
       "    .dataframe tbody tr th:only-of-type {\n",
       "        vertical-align: middle;\n",
       "    }\n",
       "\n",
       "    .dataframe tbody tr th {\n",
       "        vertical-align: top;\n",
       "    }\n",
       "\n",
       "    .dataframe thead th {\n",
       "        text-align: right;\n",
       "    }\n",
       "</style>\n",
       "<table border=\"1\" class=\"dataframe\">\n",
       "  <thead>\n",
       "    <tr style=\"text-align: right;\">\n",
       "      <th></th>\n",
       "      <th>price</th>\n",
       "    </tr>\n",
       "  </thead>\n",
       "  <tbody>\n",
       "    <tr>\n",
       "      <th>2498</th>\n",
       "      <td>429900.0</td>\n",
       "    </tr>\n",
       "    <tr>\n",
       "      <th>10932</th>\n",
       "      <td>285000.0</td>\n",
       "    </tr>\n",
       "    <tr>\n",
       "      <th>15638</th>\n",
       "      <td>295000.0</td>\n",
       "    </tr>\n",
       "    <tr>\n",
       "      <th>15099</th>\n",
       "      <td>275000.0</td>\n",
       "    </tr>\n",
       "    <tr>\n",
       "      <th>15560</th>\n",
       "      <td>590000.0</td>\n",
       "    </tr>\n",
       "    <tr>\n",
       "      <th>...</th>\n",
       "      <td>...</td>\n",
       "    </tr>\n",
       "    <tr>\n",
       "      <th>11284</th>\n",
       "      <td>469000.0</td>\n",
       "    </tr>\n",
       "    <tr>\n",
       "      <th>11964</th>\n",
       "      <td>450000.0</td>\n",
       "    </tr>\n",
       "    <tr>\n",
       "      <th>5390</th>\n",
       "      <td>295000.0</td>\n",
       "    </tr>\n",
       "    <tr>\n",
       "      <th>860</th>\n",
       "      <td>459000.0</td>\n",
       "    </tr>\n",
       "    <tr>\n",
       "      <th>15795</th>\n",
       "      <td>285000.0</td>\n",
       "    </tr>\n",
       "  </tbody>\n",
       "</table>\n",
       "<p>13832 rows × 1 columns</p>\n",
       "</div>"
      ],
      "text/plain": [
       "          price\n",
       "2498   429900.0\n",
       "10932  285000.0\n",
       "15638  295000.0\n",
       "15099  275000.0\n",
       "15560  590000.0\n",
       "...         ...\n",
       "11284  469000.0\n",
       "11964  450000.0\n",
       "5390   295000.0\n",
       "860    459000.0\n",
       "15795  285000.0\n",
       "\n",
       "[13832 rows x 1 columns]"
      ]
     },
     "execution_count": 168,
     "metadata": {},
     "output_type": "execute_result"
    }
   ],
   "source": [
    "y_train"
   ]
  },
  {
   "cell_type": "code",
   "execution_count": 169,
   "metadata": {
    "scrolled": true
   },
   "outputs": [
    {
     "data": {
      "text/plain": [
       "array([527371.72972811, 464392.93088471, 191256.27742258, ...,\n",
       "       414039.10575648, 479834.10157071, 534350.27414448])"
      ]
     },
     "execution_count": 169,
     "metadata": {},
     "output_type": "execute_result"
    }
   ],
   "source": [
    "y_train_pred"
   ]
  },
  {
   "cell_type": "code",
   "execution_count": 170,
   "metadata": {
    "scrolled": true
   },
   "outputs": [
    {
     "data": {
      "text/plain": [
       "-97471.72972811002"
      ]
     },
     "execution_count": 170,
     "metadata": {},
     "output_type": "execute_result"
    }
   ],
   "source": [
    "429900.0-527371.72972811"
   ]
  },
  {
   "cell_type": "code",
   "execution_count": 171,
   "metadata": {},
   "outputs": [
    {
     "data": {
      "text/plain": [
       "-179392.93088471"
      ]
     },
     "execution_count": 171,
     "metadata": {},
     "output_type": "execute_result"
    }
   ],
   "source": [
    "285000.0 - 464392.93088471"
   ]
  },
  {
   "cell_type": "code",
   "execution_count": 164,
   "metadata": {},
   "outputs": [
    {
     "data": {
      "text/plain": [
       "<matplotlib.axes._subplots.AxesSubplot at 0x12656f610>"
      ]
     },
     "execution_count": 164,
     "metadata": {},
     "output_type": "execute_result"
    },
    {
     "data": {
      "image/png": "[encoded data removed]",
      "text/plain": [
       "<Figure size 1152x576 with 1 Axes>"
      ]
     },
     "metadata": {
      "needs_background": "light"
     },
     "output_type": "display_data"
    }
   ],
   "source": [
    "#displaying coefficients with lasso model\n",
    "\n",
    "lasso_coef01 = pd.DataFrame(data=lasso.coef_).T\n",
    "lasso_coef01.columns = X_train.columns\n",
    "lasso_coef01 = lasso_coef01.T.sort_values(by=0).T\n",
    "lasso_coef01.plot(kind='bar', title='Modal Coefficients', legend=False, figsize=(16,8))"
   ]
  },
  {
   "cell_type": "code",
   "execution_count": 165,
   "metadata": {},
   "outputs": [
    {
     "data": {
      "text/html": [
       "<div>\n",
       "<style scoped>\n",
       "    .dataframe tbody tr th:only-of-type {\n",
       "        vertical-align: middle;\n",
       "    }\n",
       "\n",
       "    .dataframe tbody tr th {\n",
       "        vertical-align: top;\n",
       "    }\n",
       "\n",
       "    .dataframe thead th {\n",
       "        text-align: right;\n",
       "    }\n",
       "</style>\n",
       "<table border=\"1\" class=\"dataframe\">\n",
       "  <thead>\n",
       "    <tr style=\"text-align: right;\">\n",
       "      <th></th>\n",
       "      <th>0</th>\n",
       "    </tr>\n",
       "  </thead>\n",
       "  <tbody>\n",
       "    <tr>\n",
       "      <th>bed</th>\n",
       "      <td>-6.643902e+03</td>\n",
       "    </tr>\n",
       "    <tr>\n",
       "      <th>bath</th>\n",
       "      <td>2.348294e+04</td>\n",
       "    </tr>\n",
       "    <tr>\n",
       "      <th>living</th>\n",
       "      <td>1.061269e+05</td>\n",
       "    </tr>\n",
       "    <tr>\n",
       "      <th>view_bin</th>\n",
       "      <td>1.645610e+05</td>\n",
       "    </tr>\n",
       "    <tr>\n",
       "      <th>grade_9</th>\n",
       "      <td>1.673402e+05</td>\n",
       "    </tr>\n",
       "    <tr>\n",
       "      <th>grade_10</th>\n",
       "      <td>3.877160e+05</td>\n",
       "    </tr>\n",
       "    <tr>\n",
       "      <th>waterfront</th>\n",
       "      <td>6.466622e+05</td>\n",
       "    </tr>\n",
       "    <tr>\n",
       "      <th>grade_11</th>\n",
       "      <td>7.140027e+05</td>\n",
       "    </tr>\n",
       "    <tr>\n",
       "      <th>grade_12</th>\n",
       "      <td>1.358670e+06</td>\n",
       "    </tr>\n",
       "    <tr>\n",
       "      <th>grade_13</th>\n",
       "      <td>3.182583e+06</td>\n",
       "    </tr>\n",
       "  </tbody>\n",
       "</table>\n",
       "</div>"
      ],
      "text/plain": [
       "                       0\n",
       "bed        -6.643902e+03\n",
       "bath        2.348294e+04\n",
       "living      1.061269e+05\n",
       "view_bin    1.645610e+05\n",
       "grade_9     1.673402e+05\n",
       "grade_10    3.877160e+05\n",
       "waterfront  6.466622e+05\n",
       "grade_11    7.140027e+05\n",
       "grade_12    1.358670e+06\n",
       "grade_13    3.182583e+06"
      ]
     },
     "execution_count": 165,
     "metadata": {},
     "output_type": "execute_result"
    }
   ],
   "source": [
    "# checking for any coefficients that converge to 0\n",
    "\n",
    "lasso_coef01.T"
   ]
  },
  {
   "cell_type": "code",
   "execution_count": null,
   "metadata": {},
   "outputs": [],
   "source": []
  }
 ],
 "metadata": {
  "kernelspec": {
   "display_name": "Python 3",
   "language": "python",
   "name": "python3"
  },
  "language_info": {
   "codemirror_mode": {
    "name": "ipython",
    "version": 3
   },
   "file_extension": ".py",
   "mimetype": "text/x-python",
   "name": "python",
   "nbconvert_exporter": "python",
   "pygments_lexer": "ipython3",
   "version": "3.8.2"
  }
 },
 "nbformat": 4,
 "nbformat_minor": 4
}
