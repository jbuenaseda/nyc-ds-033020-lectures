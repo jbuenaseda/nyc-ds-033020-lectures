{
 "cells": [
  {
   "cell_type": "markdown",
   "metadata": {},
   "source": [
    "IMPORT MODULES"
   ]
  },
  {
   "cell_type": "code",
   "execution_count": 2,
   "metadata": {
    "scrolled": true
   },
   "outputs": [],
   "source": [
    "import pandas as pd\n",
    "import matplotlib.pyplot as plt\n",
    "import seaborn as sns\n",
    "import numpy as np\n",
    "import statsmodels.api as sm\n",
    "from statsmodels.formula.api import ols\n",
    "from sklearn.model_selection import train_test_split\n",
    "from sklearn.linear_model import LinearRegression\n",
    "from sklearn.linear_model import Lasso\n",
    "from sklearn.preprocessing import StandardScaler\n",
    "from sklearn import metrics"
   ]
  },
  {
   "cell_type": "markdown",
   "metadata": {},
   "source": [
    "---"
   ]
  },
  {
   "cell_type": "code",
   "execution_count": 3,
   "metadata": {},
   "outputs": [],
   "source": [
    "test_features = pd.read_csv('kc_house_data_test_features.csv', index_col=0)"
   ]
  },
  {
   "cell_type": "code",
   "execution_count": 4,
   "metadata": {},
   "outputs": [],
   "source": [
    "training_data = pd.read_csv('kc_house_data_train.csv', index_col=0)"
   ]
  },
  {
   "cell_type": "code",
   "execution_count": 5,
   "metadata": {},
   "outputs": [],
   "source": [
    "categorical = ['floors', 'waterfront', 'view', 'condition', 'grade', 'zipcode']\n",
    "continuous = ['sqft_living', 'bedrooms', 'bathrooms', 'sqft_lot', 'sqft_above', 'sqft_basement', 'sqft_living15', 'sqft_lot15']\n",
    "price = training_data['price']"
   ]
  },
  {
   "cell_type": "code",
   "execution_count": 6,
   "metadata": {},
   "outputs": [],
   "source": [
    "#log of price\n",
    "price = np.log(training_data['price'])"
   ]
  },
  {
   "cell_type": "code",
   "execution_count": 7,
   "metadata": {},
   "outputs": [
    {
     "name": "stdout",
     "output_type": "stream",
     "text": [
      "price min: 11.225243392518447\n",
      "price max: 15.856730886823913\n",
      "price mean: 13.048109095044126\n",
      "price median: 13.017002861746503\n"
     ]
    }
   ],
   "source": [
    "#numbers to measure against when getting RMSE or MSE\n",
    "\n",
    "print('price min:', price.min())\n",
    "print('price max:', price.max())\n",
    "print('price mean:', price.mean())\n",
    "print('price median:', price.median())"
   ]
  },
  {
   "cell_type": "code",
   "execution_count": 8,
   "metadata": {},
   "outputs": [],
   "source": [
    "cont_data = training_data[continuous]\n",
    "cat_data = training_data[categorical]"
   ]
  },
  {
   "cell_type": "markdown",
   "metadata": {},
   "source": [
    "---"
   ]
  },
  {
   "cell_type": "code",
   "execution_count": 9,
   "metadata": {
    "scrolled": true
   },
   "outputs": [
    {
     "data": {
      "text/html": [
       "<div>\n",
       "<style scoped>\n",
       "    .dataframe tbody tr th:only-of-type {\n",
       "        vertical-align: middle;\n",
       "    }\n",
       "\n",
       "    .dataframe tbody tr th {\n",
       "        vertical-align: top;\n",
       "    }\n",
       "\n",
       "    .dataframe thead th {\n",
       "        text-align: right;\n",
       "    }\n",
       "</style>\n",
       "<table border=\"1\" class=\"dataframe\">\n",
       "  <thead>\n",
       "    <tr style=\"text-align: right;\">\n",
       "      <th></th>\n",
       "      <th>sqft_living</th>\n",
       "      <th>bedrooms</th>\n",
       "      <th>bathrooms</th>\n",
       "      <th>sqft_lot</th>\n",
       "      <th>sqft_above</th>\n",
       "      <th>sqft_basement</th>\n",
       "      <th>sqft_living15</th>\n",
       "      <th>sqft_lot15</th>\n",
       "    </tr>\n",
       "  </thead>\n",
       "  <tbody>\n",
       "    <tr>\n",
       "      <th>sqft_living</th>\n",
       "      <td>1.000000</td>\n",
       "      <td>0.570428</td>\n",
       "      <td>0.755270</td>\n",
       "      <td>0.166810</td>\n",
       "      <td>0.876696</td>\n",
       "      <td>0.435529</td>\n",
       "      <td>0.755066</td>\n",
       "      <td>0.179570</td>\n",
       "    </tr>\n",
       "    <tr>\n",
       "      <th>bedrooms</th>\n",
       "      <td>0.570428</td>\n",
       "      <td>1.000000</td>\n",
       "      <td>0.507867</td>\n",
       "      <td>0.029375</td>\n",
       "      <td>0.472492</td>\n",
       "      <td>0.300085</td>\n",
       "      <td>0.387589</td>\n",
       "      <td>0.026665</td>\n",
       "    </tr>\n",
       "    <tr>\n",
       "      <th>bathrooms</th>\n",
       "      <td>0.755270</td>\n",
       "      <td>0.507867</td>\n",
       "      <td>1.000000</td>\n",
       "      <td>0.085470</td>\n",
       "      <td>0.686853</td>\n",
       "      <td>0.282700</td>\n",
       "      <td>0.568080</td>\n",
       "      <td>0.086499</td>\n",
       "    </tr>\n",
       "    <tr>\n",
       "      <th>sqft_lot</th>\n",
       "      <td>0.166810</td>\n",
       "      <td>0.029375</td>\n",
       "      <td>0.085470</td>\n",
       "      <td>1.000000</td>\n",
       "      <td>0.180755</td>\n",
       "      <td>0.008065</td>\n",
       "      <td>0.136959</td>\n",
       "      <td>0.701875</td>\n",
       "    </tr>\n",
       "    <tr>\n",
       "      <th>sqft_above</th>\n",
       "      <td>0.876696</td>\n",
       "      <td>0.472492</td>\n",
       "      <td>0.686853</td>\n",
       "      <td>0.180755</td>\n",
       "      <td>1.000000</td>\n",
       "      <td>-0.051199</td>\n",
       "      <td>0.731077</td>\n",
       "      <td>0.193874</td>\n",
       "    </tr>\n",
       "    <tr>\n",
       "      <th>sqft_basement</th>\n",
       "      <td>0.435529</td>\n",
       "      <td>0.300085</td>\n",
       "      <td>0.282700</td>\n",
       "      <td>0.008065</td>\n",
       "      <td>-0.051199</td>\n",
       "      <td>1.000000</td>\n",
       "      <td>0.199521</td>\n",
       "      <td>0.010007</td>\n",
       "    </tr>\n",
       "    <tr>\n",
       "      <th>sqft_living15</th>\n",
       "      <td>0.755066</td>\n",
       "      <td>0.387589</td>\n",
       "      <td>0.568080</td>\n",
       "      <td>0.136959</td>\n",
       "      <td>0.731077</td>\n",
       "      <td>0.199521</td>\n",
       "      <td>1.000000</td>\n",
       "      <td>0.178533</td>\n",
       "    </tr>\n",
       "    <tr>\n",
       "      <th>sqft_lot15</th>\n",
       "      <td>0.179570</td>\n",
       "      <td>0.026665</td>\n",
       "      <td>0.086499</td>\n",
       "      <td>0.701875</td>\n",
       "      <td>0.193874</td>\n",
       "      <td>0.010007</td>\n",
       "      <td>0.178533</td>\n",
       "      <td>1.000000</td>\n",
       "    </tr>\n",
       "  </tbody>\n",
       "</table>\n",
       "</div>"
      ],
      "text/plain": [
       "               sqft_living  bedrooms  bathrooms  sqft_lot  sqft_above  \\\n",
       "sqft_living       1.000000  0.570428   0.755270  0.166810    0.876696   \n",
       "bedrooms          0.570428  1.000000   0.507867  0.029375    0.472492   \n",
       "bathrooms         0.755270  0.507867   1.000000  0.085470    0.686853   \n",
       "sqft_lot          0.166810  0.029375   0.085470  1.000000    0.180755   \n",
       "sqft_above        0.876696  0.472492   0.686853  0.180755    1.000000   \n",
       "sqft_basement     0.435529  0.300085   0.282700  0.008065   -0.051199   \n",
       "sqft_living15     0.755066  0.387589   0.568080  0.136959    0.731077   \n",
       "sqft_lot15        0.179570  0.026665   0.086499  0.701875    0.193874   \n",
       "\n",
       "               sqft_basement  sqft_living15  sqft_lot15  \n",
       "sqft_living         0.435529       0.755066    0.179570  \n",
       "bedrooms            0.300085       0.387589    0.026665  \n",
       "bathrooms           0.282700       0.568080    0.086499  \n",
       "sqft_lot            0.008065       0.136959    0.701875  \n",
       "sqft_above         -0.051199       0.731077    0.193874  \n",
       "sqft_basement       1.000000       0.199521    0.010007  \n",
       "sqft_living15       0.199521       1.000000    0.178533  \n",
       "sqft_lot15          0.010007       0.178533    1.000000  "
      ]
     },
     "execution_count": 9,
     "metadata": {},
     "output_type": "execute_result"
    }
   ],
   "source": [
    "cont_data.corr() "
   ]
  },
  {
   "cell_type": "code",
   "execution_count": 10,
   "metadata": {
    "scrolled": true
   },
   "outputs": [
    {
     "data": {
      "text/html": [
       "<div>\n",
       "<style scoped>\n",
       "    .dataframe tbody tr th:only-of-type {\n",
       "        vertical-align: middle;\n",
       "    }\n",
       "\n",
       "    .dataframe tbody tr th {\n",
       "        vertical-align: top;\n",
       "    }\n",
       "\n",
       "    .dataframe thead th {\n",
       "        text-align: right;\n",
       "    }\n",
       "</style>\n",
       "<table border=\"1\" class=\"dataframe\">\n",
       "  <thead>\n",
       "    <tr style=\"text-align: right;\">\n",
       "      <th></th>\n",
       "      <th>floors</th>\n",
       "      <th>waterfront</th>\n",
       "      <th>view</th>\n",
       "      <th>condition</th>\n",
       "      <th>grade</th>\n",
       "      <th>zipcode</th>\n",
       "    </tr>\n",
       "  </thead>\n",
       "  <tbody>\n",
       "    <tr>\n",
       "      <th>floors</th>\n",
       "      <td>1.000000</td>\n",
       "      <td>0.025132</td>\n",
       "      <td>0.025883</td>\n",
       "      <td>-0.259230</td>\n",
       "      <td>0.458984</td>\n",
       "      <td>-0.060560</td>\n",
       "    </tr>\n",
       "    <tr>\n",
       "      <th>waterfront</th>\n",
       "      <td>0.025132</td>\n",
       "      <td>1.000000</td>\n",
       "      <td>0.407565</td>\n",
       "      <td>0.009608</td>\n",
       "      <td>0.092234</td>\n",
       "      <td>0.034282</td>\n",
       "    </tr>\n",
       "    <tr>\n",
       "      <th>view</th>\n",
       "      <td>0.025883</td>\n",
       "      <td>0.407565</td>\n",
       "      <td>1.000000</td>\n",
       "      <td>0.045060</td>\n",
       "      <td>0.249554</td>\n",
       "      <td>0.089475</td>\n",
       "    </tr>\n",
       "    <tr>\n",
       "      <th>condition</th>\n",
       "      <td>-0.259230</td>\n",
       "      <td>0.009608</td>\n",
       "      <td>0.045060</td>\n",
       "      <td>1.000000</td>\n",
       "      <td>-0.142066</td>\n",
       "      <td>0.007068</td>\n",
       "    </tr>\n",
       "    <tr>\n",
       "      <th>grade</th>\n",
       "      <td>0.458984</td>\n",
       "      <td>0.092234</td>\n",
       "      <td>0.249554</td>\n",
       "      <td>-0.142066</td>\n",
       "      <td>1.000000</td>\n",
       "      <td>-0.184946</td>\n",
       "    </tr>\n",
       "    <tr>\n",
       "      <th>zipcode</th>\n",
       "      <td>-0.060560</td>\n",
       "      <td>0.034282</td>\n",
       "      <td>0.089475</td>\n",
       "      <td>0.007068</td>\n",
       "      <td>-0.184946</td>\n",
       "      <td>1.000000</td>\n",
       "    </tr>\n",
       "  </tbody>\n",
       "</table>\n",
       "</div>"
      ],
      "text/plain": [
       "              floors  waterfront      view  condition     grade   zipcode\n",
       "floors      1.000000    0.025132  0.025883  -0.259230  0.458984 -0.060560\n",
       "waterfront  0.025132    1.000000  0.407565   0.009608  0.092234  0.034282\n",
       "view        0.025883    0.407565  1.000000   0.045060  0.249554  0.089475\n",
       "condition  -0.259230    0.009608  0.045060   1.000000 -0.142066  0.007068\n",
       "grade       0.458984    0.092234  0.249554  -0.142066  1.000000 -0.184946\n",
       "zipcode    -0.060560    0.034282  0.089475   0.007068 -0.184946  1.000000"
      ]
     },
     "execution_count": 10,
     "metadata": {},
     "output_type": "execute_result"
    }
   ],
   "source": [
    "cat_data.corr() "
   ]
  },
  {
   "cell_type": "code",
   "execution_count": 11,
   "metadata": {},
   "outputs": [],
   "source": [
    "#choosing 3 cont variables + 3 categorical vars\n",
    "features = ['sqft_living', 'bedrooms', 'bathrooms', 'grade', 'waterfront', 'view']"
   ]
  },
  {
   "cell_type": "code",
   "execution_count": 12,
   "metadata": {},
   "outputs": [],
   "source": [
    "#feature engineering\n",
    "\n",
    "#if a house has 1 or more views, it's a 1 otherwise a 0\n",
    "training_data['view_bin'] = np.where(training_data['view'].values >= 1, 1,0)\n",
    "training_data['bedrooms'] = np.where((training_data.bedrooms > 6),6,training_data['bedrooms'])"
   ]
  },
  {
   "cell_type": "code",
   "execution_count": 13,
   "metadata": {},
   "outputs": [],
   "source": [
    "# Continuous features to scale \n",
    "#living = training_data['sqft_living']\n",
    "logliving = np.log(training_data['sqft_living'])\n",
    "bed = training_data['bedrooms']\n",
    "bath = training_data['bathrooms']"
   ]
  },
  {
   "cell_type": "code",
   "execution_count": 14,
   "metadata": {},
   "outputs": [],
   "source": [
    "# Scale the features\n",
    "scaler = StandardScaler()\n",
    "#scaled_living = scaler.fit_transform(training_data[['sqft_living']])\n",
    "scaled_livinglog = scaler.fit_transform(np.log(training_data[['sqft_living']]))\n",
    "scaled_bed = scaler.fit_transform(training_data[['bedrooms']])\n",
    "scaled_bath = scaler.fit_transform(training_data[['bathrooms']])"
   ]
  },
  {
   "cell_type": "code",
   "execution_count": 15,
   "metadata": {},
   "outputs": [],
   "source": [
    "# Create a dataframe with scaled features\n",
    "data_fin = pd.DataFrame([])\n",
    "data_fin['living'] = scaled_livinglog.flatten()\n",
    "data_fin['bed'] = scaled_bed.flatten()\n",
    "data_fin['bath'] = scaled_bath.flatten()"
   ]
  },
  {
   "cell_type": "code",
   "execution_count": 16,
   "metadata": {},
   "outputs": [],
   "source": [
    "# Create dummies for categorical features\n",
    "grade_dummies = pd.get_dummies(training_data['grade'], prefix='grade', drop_first=True)\n",
    "water = training_data['waterfront']\n",
    "view = training_data['view_bin']"
   ]
  },
  {
   "cell_type": "code",
   "execution_count": 17,
   "metadata": {},
   "outputs": [],
   "source": [
    "#drop the grade dummies with high p-values\n",
    "grade_dummies.drop(columns=['grade_3','grade_4', 'grade_5', 'grade_6', 'grade_7', 'grade_8'], inplace=True)"
   ]
  },
  {
   "cell_type": "code",
   "execution_count": 18,
   "metadata": {},
   "outputs": [],
   "source": [
    "# Concat with dataframe \n",
    "data_fin = pd.concat([price, data_fin, grade_dummies, water, view], axis=1)"
   ]
  },
  {
   "cell_type": "code",
   "execution_count": 19,
   "metadata": {},
   "outputs": [
    {
     "data": {
      "text/html": [
       "<div>\n",
       "<style scoped>\n",
       "    .dataframe tbody tr th:only-of-type {\n",
       "        vertical-align: middle;\n",
       "    }\n",
       "\n",
       "    .dataframe tbody tr th {\n",
       "        vertical-align: top;\n",
       "    }\n",
       "\n",
       "    .dataframe thead th {\n",
       "        text-align: right;\n",
       "    }\n",
       "</style>\n",
       "<table border=\"1\" class=\"dataframe\">\n",
       "  <thead>\n",
       "    <tr style=\"text-align: right;\">\n",
       "      <th></th>\n",
       "      <th>price</th>\n",
       "      <th>living</th>\n",
       "      <th>bed</th>\n",
       "      <th>bath</th>\n",
       "      <th>grade_9</th>\n",
       "      <th>grade_10</th>\n",
       "      <th>grade_11</th>\n",
       "      <th>grade_12</th>\n",
       "      <th>grade_13</th>\n",
       "      <th>waterfront</th>\n",
       "      <th>view_bin</th>\n",
       "    </tr>\n",
       "  </thead>\n",
       "  <tbody>\n",
       "    <tr>\n",
       "      <th>0</th>\n",
       "      <td>12.807653</td>\n",
       "      <td>0.197942</td>\n",
       "      <td>0.710376</td>\n",
       "      <td>0.179189</td>\n",
       "      <td>0</td>\n",
       "      <td>0</td>\n",
       "      <td>0</td>\n",
       "      <td>0</td>\n",
       "      <td>0</td>\n",
       "      <td>0</td>\n",
       "      <td>0</td>\n",
       "    </tr>\n",
       "    <tr>\n",
       "      <th>1</th>\n",
       "      <td>13.670485</td>\n",
       "      <td>0.993220</td>\n",
       "      <td>1.831136</td>\n",
       "      <td>1.152641</td>\n",
       "      <td>0</td>\n",
       "      <td>0</td>\n",
       "      <td>0</td>\n",
       "      <td>0</td>\n",
       "      <td>0</td>\n",
       "      <td>0</td>\n",
       "      <td>0</td>\n",
       "    </tr>\n",
       "    <tr>\n",
       "      <th>2</th>\n",
       "      <td>13.852806</td>\n",
       "      <td>1.612070</td>\n",
       "      <td>0.710376</td>\n",
       "      <td>0.503673</td>\n",
       "      <td>0</td>\n",
       "      <td>0</td>\n",
       "      <td>1</td>\n",
       "      <td>0</td>\n",
       "      <td>0</td>\n",
       "      <td>0</td>\n",
       "      <td>1</td>\n",
       "    </tr>\n",
       "    <tr>\n",
       "      <th>3</th>\n",
       "      <td>14.214287</td>\n",
       "      <td>2.060815</td>\n",
       "      <td>-0.410383</td>\n",
       "      <td>1.801609</td>\n",
       "      <td>0</td>\n",
       "      <td>0</td>\n",
       "      <td>0</td>\n",
       "      <td>1</td>\n",
       "      <td>0</td>\n",
       "      <td>0</td>\n",
       "      <td>1</td>\n",
       "    </tr>\n",
       "    <tr>\n",
       "      <th>4</th>\n",
       "      <td>13.474428</td>\n",
       "      <td>0.689845</td>\n",
       "      <td>-0.410383</td>\n",
       "      <td>0.503673</td>\n",
       "      <td>1</td>\n",
       "      <td>0</td>\n",
       "      <td>0</td>\n",
       "      <td>0</td>\n",
       "      <td>0</td>\n",
       "      <td>0</td>\n",
       "      <td>0</td>\n",
       "    </tr>\n",
       "    <tr>\n",
       "      <th>...</th>\n",
       "      <td>...</td>\n",
       "      <td>...</td>\n",
       "      <td>...</td>\n",
       "      <td>...</td>\n",
       "      <td>...</td>\n",
       "      <td>...</td>\n",
       "      <td>...</td>\n",
       "      <td>...</td>\n",
       "      <td>...</td>\n",
       "      <td>...</td>\n",
       "      <td>...</td>\n",
       "    </tr>\n",
       "    <tr>\n",
       "      <th>17285</th>\n",
       "      <td>13.527828</td>\n",
       "      <td>1.254716</td>\n",
       "      <td>1.831136</td>\n",
       "      <td>0.503673</td>\n",
       "      <td>0</td>\n",
       "      <td>0</td>\n",
       "      <td>0</td>\n",
       "      <td>0</td>\n",
       "      <td>0</td>\n",
       "      <td>0</td>\n",
       "      <td>1</td>\n",
       "    </tr>\n",
       "    <tr>\n",
       "      <th>17286</th>\n",
       "      <td>12.994530</td>\n",
       "      <td>-0.899308</td>\n",
       "      <td>-1.531143</td>\n",
       "      <td>-0.469779</td>\n",
       "      <td>0</td>\n",
       "      <td>0</td>\n",
       "      <td>0</td>\n",
       "      <td>0</td>\n",
       "      <td>0</td>\n",
       "      <td>0</td>\n",
       "      <td>0</td>\n",
       "    </tr>\n",
       "    <tr>\n",
       "      <th>17287</th>\n",
       "      <td>12.644328</td>\n",
       "      <td>-1.403074</td>\n",
       "      <td>-0.410383</td>\n",
       "      <td>-1.443231</td>\n",
       "      <td>0</td>\n",
       "      <td>0</td>\n",
       "      <td>0</td>\n",
       "      <td>0</td>\n",
       "      <td>0</td>\n",
       "      <td>0</td>\n",
       "      <td>0</td>\n",
       "    </tr>\n",
       "    <tr>\n",
       "      <th>17288</th>\n",
       "      <td>12.965710</td>\n",
       "      <td>-0.004190</td>\n",
       "      <td>-0.410383</td>\n",
       "      <td>-0.794263</td>\n",
       "      <td>0</td>\n",
       "      <td>0</td>\n",
       "      <td>0</td>\n",
       "      <td>0</td>\n",
       "      <td>0</td>\n",
       "      <td>0</td>\n",
       "      <td>0</td>\n",
       "    </tr>\n",
       "    <tr>\n",
       "      <th>17289</th>\n",
       "      <td>12.759958</td>\n",
       "      <td>-0.845494</td>\n",
       "      <td>-0.410383</td>\n",
       "      <td>-0.794263</td>\n",
       "      <td>0</td>\n",
       "      <td>0</td>\n",
       "      <td>0</td>\n",
       "      <td>0</td>\n",
       "      <td>0</td>\n",
       "      <td>0</td>\n",
       "      <td>0</td>\n",
       "    </tr>\n",
       "  </tbody>\n",
       "</table>\n",
       "<p>17290 rows × 11 columns</p>\n",
       "</div>"
      ],
      "text/plain": [
       "           price    living       bed      bath  grade_9  grade_10  grade_11  \\\n",
       "0      12.807653  0.197942  0.710376  0.179189        0         0         0   \n",
       "1      13.670485  0.993220  1.831136  1.152641        0         0         0   \n",
       "2      13.852806  1.612070  0.710376  0.503673        0         0         1   \n",
       "3      14.214287  2.060815 -0.410383  1.801609        0         0         0   \n",
       "4      13.474428  0.689845 -0.410383  0.503673        1         0         0   \n",
       "...          ...       ...       ...       ...      ...       ...       ...   \n",
       "17285  13.527828  1.254716  1.831136  0.503673        0         0         0   \n",
       "17286  12.994530 -0.899308 -1.531143 -0.469779        0         0         0   \n",
       "17287  12.644328 -1.403074 -0.410383 -1.443231        0         0         0   \n",
       "17288  12.965710 -0.004190 -0.410383 -0.794263        0         0         0   \n",
       "17289  12.759958 -0.845494 -0.410383 -0.794263        0         0         0   \n",
       "\n",
       "       grade_12  grade_13  waterfront  view_bin  \n",
       "0             0         0           0         0  \n",
       "1             0         0           0         0  \n",
       "2             0         0           0         1  \n",
       "3             1         0           0         1  \n",
       "4             0         0           0         0  \n",
       "...         ...       ...         ...       ...  \n",
       "17285         0         0           0         1  \n",
       "17286         0         0           0         0  \n",
       "17287         0         0           0         0  \n",
       "17288         0         0           0         0  \n",
       "17289         0         0           0         0  \n",
       "\n",
       "[17290 rows x 11 columns]"
      ]
     },
     "execution_count": 19,
     "metadata": {},
     "output_type": "execute_result"
    }
   ],
   "source": [
    "data_fin"
   ]
  },
  {
   "cell_type": "code",
   "execution_count": 20,
   "metadata": {},
   "outputs": [
    {
     "data": {
      "text/html": [
       "<table class=\"simpletable\">\n",
       "<caption>OLS Regression Results</caption>\n",
       "<tr>\n",
       "  <th>Dep. Variable:</th>          <td>price</td>      <th>  R-squared:         </th> <td>   0.555</td> \n",
       "</tr>\n",
       "<tr>\n",
       "  <th>Model:</th>                   <td>OLS</td>       <th>  Adj. R-squared:    </th> <td>   0.555</td> \n",
       "</tr>\n",
       "<tr>\n",
       "  <th>Method:</th>             <td>Least Squares</td>  <th>  F-statistic:       </th> <td>   2156.</td> \n",
       "</tr>\n",
       "<tr>\n",
       "  <th>Date:</th>             <td>Sat, 02 May 2020</td> <th>  Prob (F-statistic):</th>  <td>  0.00</td>  \n",
       "</tr>\n",
       "<tr>\n",
       "  <th>Time:</th>                 <td>15:17:24</td>     <th>  Log-Likelihood:    </th> <td> -6451.4</td> \n",
       "</tr>\n",
       "<tr>\n",
       "  <th>No. Observations:</th>      <td> 17290</td>      <th>  AIC:               </th> <td>1.292e+04</td>\n",
       "</tr>\n",
       "<tr>\n",
       "  <th>Df Residuals:</th>          <td> 17279</td>      <th>  BIC:               </th> <td>1.301e+04</td>\n",
       "</tr>\n",
       "<tr>\n",
       "  <th>Df Model:</th>              <td>    10</td>      <th>                     </th>     <td> </td>    \n",
       "</tr>\n",
       "<tr>\n",
       "  <th>Covariance Type:</th>      <td>nonrobust</td>    <th>                     </th>     <td> </td>    \n",
       "</tr>\n",
       "</table>\n",
       "<table class=\"simpletable\">\n",
       "<tr>\n",
       "       <td></td>         <th>coef</th>     <th>std err</th>      <th>t</th>      <th>P>|t|</th>  <th>[0.025</th>    <th>0.975]</th>  \n",
       "</tr>\n",
       "<tr>\n",
       "  <th>Intercept</th>  <td>   12.9530</td> <td>    0.003</td> <td> 3987.573</td> <td> 0.000</td> <td>   12.947</td> <td>   12.959</td>\n",
       "</tr>\n",
       "<tr>\n",
       "  <th>living</th>     <td>    0.2467</td> <td>    0.005</td> <td>   48.575</td> <td> 0.000</td> <td>    0.237</td> <td>    0.257</td>\n",
       "</tr>\n",
       "<tr>\n",
       "  <th>bed</th>        <td>   -0.0313</td> <td>    0.004</td> <td>   -8.785</td> <td> 0.000</td> <td>   -0.038</td> <td>   -0.024</td>\n",
       "</tr>\n",
       "<tr>\n",
       "  <th>bath</th>       <td>    0.0260</td> <td>    0.004</td> <td>    6.203</td> <td> 0.000</td> <td>    0.018</td> <td>    0.034</td>\n",
       "</tr>\n",
       "<tr>\n",
       "  <th>grade_9</th>    <td>    0.2660</td> <td>    0.009</td> <td>   28.817</td> <td> 0.000</td> <td>    0.248</td> <td>    0.284</td>\n",
       "</tr>\n",
       "<tr>\n",
       "  <th>grade_10</th>   <td>    0.4285</td> <td>    0.014</td> <td>   31.608</td> <td> 0.000</td> <td>    0.402</td> <td>    0.455</td>\n",
       "</tr>\n",
       "<tr>\n",
       "  <th>grade_11</th>   <td>    0.5778</td> <td>    0.022</td> <td>   26.806</td> <td> 0.000</td> <td>    0.536</td> <td>    0.620</td>\n",
       "</tr>\n",
       "<tr>\n",
       "  <th>grade_12</th>   <td>    0.7687</td> <td>    0.043</td> <td>   17.842</td> <td> 0.000</td> <td>    0.684</td> <td>    0.853</td>\n",
       "</tr>\n",
       "<tr>\n",
       "  <th>grade_13</th>   <td>    1.1736</td> <td>    0.107</td> <td>   10.958</td> <td> 0.000</td> <td>    0.964</td> <td>    1.383</td>\n",
       "</tr>\n",
       "<tr>\n",
       "  <th>waterfront</th> <td>    0.4403</td> <td>    0.031</td> <td>   14.025</td> <td> 0.000</td> <td>    0.379</td> <td>    0.502</td>\n",
       "</tr>\n",
       "<tr>\n",
       "  <th>view_bin</th>   <td>    0.2266</td> <td>    0.010</td> <td>   23.634</td> <td> 0.000</td> <td>    0.208</td> <td>    0.245</td>\n",
       "</tr>\n",
       "</table>\n",
       "<table class=\"simpletable\">\n",
       "<tr>\n",
       "  <th>Omnibus:</th>       <td>58.248</td> <th>  Durbin-Watson:     </th> <td>   2.024</td>\n",
       "</tr>\n",
       "<tr>\n",
       "  <th>Prob(Omnibus):</th> <td> 0.000</td> <th>  Jarque-Bera (JB):  </th> <td>  45.691</td>\n",
       "</tr>\n",
       "<tr>\n",
       "  <th>Skew:</th>          <td> 0.033</td> <th>  Prob(JB):          </th> <td>1.20e-10</td>\n",
       "</tr>\n",
       "<tr>\n",
       "  <th>Kurtosis:</th>      <td> 2.757</td> <th>  Cond. No.          </th> <td>    60.9</td>\n",
       "</tr>\n",
       "</table><br/><br/>Warnings:<br/>[1] Standard Errors assume that the covariance matrix of the errors is correctly specified."
      ],
      "text/plain": [
       "<class 'statsmodels.iolib.summary.Summary'>\n",
       "\"\"\"\n",
       "                            OLS Regression Results                            \n",
       "==============================================================================\n",
       "Dep. Variable:                  price   R-squared:                       0.555\n",
       "Model:                            OLS   Adj. R-squared:                  0.555\n",
       "Method:                 Least Squares   F-statistic:                     2156.\n",
       "Date:                Sat, 02 May 2020   Prob (F-statistic):               0.00\n",
       "Time:                        15:17:24   Log-Likelihood:                -6451.4\n",
       "No. Observations:               17290   AIC:                         1.292e+04\n",
       "Df Residuals:                   17279   BIC:                         1.301e+04\n",
       "Df Model:                          10                                         \n",
       "Covariance Type:            nonrobust                                         \n",
       "==============================================================================\n",
       "                 coef    std err          t      P>|t|      [0.025      0.975]\n",
       "------------------------------------------------------------------------------\n",
       "Intercept     12.9530      0.003   3987.573      0.000      12.947      12.959\n",
       "living         0.2467      0.005     48.575      0.000       0.237       0.257\n",
       "bed           -0.0313      0.004     -8.785      0.000      -0.038      -0.024\n",
       "bath           0.0260      0.004      6.203      0.000       0.018       0.034\n",
       "grade_9        0.2660      0.009     28.817      0.000       0.248       0.284\n",
       "grade_10       0.4285      0.014     31.608      0.000       0.402       0.455\n",
       "grade_11       0.5778      0.022     26.806      0.000       0.536       0.620\n",
       "grade_12       0.7687      0.043     17.842      0.000       0.684       0.853\n",
       "grade_13       1.1736      0.107     10.958      0.000       0.964       1.383\n",
       "waterfront     0.4403      0.031     14.025      0.000       0.379       0.502\n",
       "view_bin       0.2266      0.010     23.634      0.000       0.208       0.245\n",
       "==============================================================================\n",
       "Omnibus:                       58.248   Durbin-Watson:                   2.024\n",
       "Prob(Omnibus):                  0.000   Jarque-Bera (JB):               45.691\n",
       "Skew:                           0.033   Prob(JB):                     1.20e-10\n",
       "Kurtosis:                       2.757   Cond. No.                         60.9\n",
       "==============================================================================\n",
       "\n",
       "Warnings:\n",
       "[1] Standard Errors assume that the covariance matrix of the errors is correctly specified.\n",
       "\"\"\""
      ]
     },
     "execution_count": 20,
     "metadata": {},
     "output_type": "execute_result"
    }
   ],
   "source": [
    "# Create model\n",
    "outcome = 'price'\n",
    "predictors = data_fin.drop('price', axis=1)\n",
    "pred_sum = '+'.join(predictors.columns)\n",
    "formula = outcome + '~' + pred_sum\n",
    "model = ols(formula=formula, data=data_fin).fit()\n",
    "model.summary()"
   ]
  },
  {
   "cell_type": "code",
   "execution_count": 21,
   "metadata": {},
   "outputs": [
    {
     "name": "stdout",
     "output_type": "stream",
     "text": [
      "Train Mean Squarred Error: price    0.124161\n",
      "dtype: float64\n",
      "Test Mean Squarred Error: price    0.120841\n",
      "dtype: float64\n"
     ]
    }
   ],
   "source": [
    "# Test models\n",
    "\n",
    "# Get a subset of the features and set to x and y\n",
    "\n",
    "y = data_fin[['price']]\n",
    "X = data_fin.drop(['price'], axis=1)\n",
    "\n",
    "#from sklearn.model_selection import train_test_split\n",
    "X_train, X_test, y_train, y_test = train_test_split(X, y, test_size=0.2, random_state=42)\n",
    "\n",
    "#from sklearn.linear_model import LinearRegression\n",
    "linreg = LinearRegression()\n",
    "linreg.fit(X_train, y_train)\n",
    "\n",
    "y_hat_train = linreg.predict(X_train)\n",
    "y_hat_test = linreg.predict(X_test)\n",
    "\n",
    "train_residuals = y_hat_train - y_train\n",
    "test_residuals = y_hat_test - y_test\n",
    "\n",
    "mse_train = np.sum((y_train-y_hat_train)**2)/len(y_train)\n",
    "mse_test = np.sum((y_test-y_hat_test)**2)/len(y_test)\n",
    "print('Train Mean Squarred Error:', mse_train)\n",
    "print('Test Mean Squarred Error:', mse_test)\n",
    "\n",
    "# Pickle"
   ]
  },
  {
   "cell_type": "code",
   "execution_count": 32,
   "metadata": {},
   "outputs": [
    {
     "data": {
      "text/plain": [
       "1.1321981402266852"
      ]
     },
     "execution_count": 32,
     "metadata": {},
     "output_type": "execute_result"
    }
   ],
   "source": [
    "np.exp(0.124161)"
   ]
  },
  {
   "cell_type": "code",
   "execution_count": 22,
   "metadata": {
    "scrolled": false
   },
   "outputs": [
    {
     "name": "stdout",
     "output_type": "stream",
     "text": [
      "Training Error: 0.30012162041683904\n",
      "Testing Error: 0.3679871809653464\n"
     ]
    }
   ],
   "source": [
    "## training the model with lasso\n",
    "\n",
    "lasso = Lasso(alpha=0.01, normalize=False)\n",
    "\n",
    "lasso.fit(X_train,y_train)\n",
    "\n",
    "y_train_pred = lasso.predict(X_train)\n",
    "y_pred = lasso.predict(X_test)\n",
    "\n",
    "train_rmse = metrics.mean_absolute_error(y_train, y_train_pred)\n",
    "test_rmse = np.sqrt(metrics.mean_squared_error(y_test, y_pred))\n",
    "print('Training Error: '+ str(train_rmse) )\n",
    "print('Testing Error: '+ str(test_rmse) )"
   ]
  },
  {
   "cell_type": "code",
   "execution_count": 46,
   "metadata": {},
   "outputs": [
    {
     "data": {
      "text/html": [
       "<div>\n",
       "<style scoped>\n",
       "    .dataframe tbody tr th:only-of-type {\n",
       "        vertical-align: middle;\n",
       "    }\n",
       "\n",
       "    .dataframe tbody tr th {\n",
       "        vertical-align: top;\n",
       "    }\n",
       "\n",
       "    .dataframe thead th {\n",
       "        text-align: right;\n",
       "    }\n",
       "</style>\n",
       "<table border=\"1\" class=\"dataframe\">\n",
       "  <thead>\n",
       "    <tr style=\"text-align: right;\">\n",
       "      <th></th>\n",
       "      <th>price</th>\n",
       "    </tr>\n",
       "  </thead>\n",
       "  <tbody>\n",
       "    <tr>\n",
       "      <th>2498</th>\n",
       "      <td>12.971308</td>\n",
       "    </tr>\n",
       "    <tr>\n",
       "      <th>10932</th>\n",
       "      <td>12.560244</td>\n",
       "    </tr>\n",
       "    <tr>\n",
       "      <th>15638</th>\n",
       "      <td>12.594731</td>\n",
       "    </tr>\n",
       "    <tr>\n",
       "      <th>15099</th>\n",
       "      <td>12.524526</td>\n",
       "    </tr>\n",
       "    <tr>\n",
       "      <th>15560</th>\n",
       "      <td>13.287878</td>\n",
       "    </tr>\n",
       "    <tr>\n",
       "      <th>...</th>\n",
       "      <td>...</td>\n",
       "    </tr>\n",
       "    <tr>\n",
       "      <th>11284</th>\n",
       "      <td>13.058358</td>\n",
       "    </tr>\n",
       "    <tr>\n",
       "      <th>11964</th>\n",
       "      <td>13.017003</td>\n",
       "    </tr>\n",
       "    <tr>\n",
       "      <th>5390</th>\n",
       "      <td>12.594731</td>\n",
       "    </tr>\n",
       "    <tr>\n",
       "      <th>860</th>\n",
       "      <td>13.036805</td>\n",
       "    </tr>\n",
       "    <tr>\n",
       "      <th>15795</th>\n",
       "      <td>12.560244</td>\n",
       "    </tr>\n",
       "  </tbody>\n",
       "</table>\n",
       "<p>13832 rows × 1 columns</p>\n",
       "</div>"
      ],
      "text/plain": [
       "           price\n",
       "2498   12.971308\n",
       "10932  12.560244\n",
       "15638  12.594731\n",
       "15099  12.524526\n",
       "15560  13.287878\n",
       "...          ...\n",
       "11284  13.058358\n",
       "11964  13.017003\n",
       "5390   12.594731\n",
       "860    13.036805\n",
       "15795  12.560244\n",
       "\n",
       "[13832 rows x 1 columns]"
      ]
     },
     "execution_count": 46,
     "metadata": {},
     "output_type": "execute_result"
    }
   ],
   "source": [
    "y_train"
   ]
  },
  {
   "cell_type": "code",
   "execution_count": 47,
   "metadata": {},
   "outputs": [
    {
     "data": {
      "text/plain": [
       "array([13.21077137, 13.03742574, 12.31577565, ..., 12.88385734,\n",
       "       13.04253469, 13.23095799])"
      ]
     },
     "execution_count": 47,
     "metadata": {},
     "output_type": "execute_result"
    }
   ],
   "source": [
    "y_train_pred"
   ]
  },
  {
   "cell_type": "code",
   "execution_count": 45,
   "metadata": {},
   "outputs": [
    {
     "data": {
      "text/plain": [
       "1.3500229879504948"
      ]
     },
     "execution_count": 45,
     "metadata": {},
     "output_type": "execute_result"
    }
   ],
   "source": [
    "np.exp(0.30012162041683904)"
   ]
  },
  {
   "cell_type": "code",
   "execution_count": 41,
   "metadata": {},
   "outputs": [
    {
     "data": {
      "text/plain": [
       "(429900.0419219703, 546216.8679969818)"
      ]
     },
     "execution_count": 41,
     "metadata": {},
     "output_type": "execute_result"
    }
   ],
   "source": [
    "np.exp(12.971308), np.exp(13.21077137)"
   ]
  },
  {
   "cell_type": "code",
   "execution_count": 42,
   "metadata": {},
   "outputs": [
    {
     "data": {
      "text/plain": [
       "116316.82607501152"
      ]
     },
     "execution_count": 42,
     "metadata": {},
     "output_type": "execute_result"
    }
   ],
   "source": [
    "np.exp(13.21077137) - np.exp(12.971308)"
   ]
  },
  {
   "cell_type": "code",
   "execution_count": 48,
   "metadata": {},
   "outputs": [
    {
     "data": {
      "text/plain": [
       "-174284.91438534192"
      ]
     },
     "execution_count": 48,
     "metadata": {},
     "output_type": "execute_result"
    }
   ],
   "source": [
    "np.exp(12.560244) - np.exp(13.03742574)"
   ]
  },
  {
   "cell_type": "code",
   "execution_count": 27,
   "metadata": {},
   "outputs": [
    {
     "name": "stdout",
     "output_type": "stream",
     "text": [
      "price min: 11.225243392518447\n",
      "price max: 15.856730886823913\n",
      "price mean: 13.048109095044126\n",
      "price median: 13.017002861746503\n"
     ]
    }
   ],
   "source": [
    "#numbers to measure against when getting RMSE or MSE\n",
    "\n",
    "print('price min:', price.min())\n",
    "print('price max:', price.max())\n",
    "print('price mean:', price.mean())\n",
    "print('price median:', price.median())"
   ]
  },
  {
   "cell_type": "code",
   "execution_count": 28,
   "metadata": {},
   "outputs": [
    {
     "name": "stdout",
     "output_type": "stream",
     "text": [
      "0.0648002657431001\n",
      "0.07945334655827015\n"
     ]
    }
   ],
   "source": [
    "#normalizing using the difference between maximum and minimum: NRMSE=RMSEymax−ymin\n",
    "print(train_rmse/(max(price)-min(price)))\n",
    "print(test_rmse/(max(price)-min(price)))"
   ]
  },
  {
   "cell_type": "code",
   "execution_count": 29,
   "metadata": {},
   "outputs": [
    {
     "name": "stdout",
     "output_type": "stream",
     "text": [
      "0.02300115811652969\n",
      "0.02820233784718382\n"
     ]
    }
   ],
   "source": [
    "#normalizing using the mean: NRMSE=RMSE¯\n",
    "print(train_rmse/price.mean())\n",
    "print(test_rmse/price.mean())"
   ]
  },
  {
   "cell_type": "code",
   "execution_count": null,
   "metadata": {},
   "outputs": [],
   "source": []
  },
  {
   "cell_type": "code",
   "execution_count": 25,
   "metadata": {},
   "outputs": [
    {
     "data": {
      "text/plain": [
       "<matplotlib.axes._subplots.AxesSubplot at 0x124cb3be0>"
      ]
     },
     "execution_count": 25,
     "metadata": {},
     "output_type": "execute_result"
    },
    {
     "data": {
      "image/png": "[encoded data removed]",
      "text/plain": [
       "<Figure size 1152x576 with 1 Axes>"
      ]
     },
     "metadata": {
      "needs_background": "light"
     },
     "output_type": "display_data"
    }
   ],
   "source": [
    "#displaying coefficients with lasso model\n",
    "\n",
    "lasso_coef01 = pd.DataFrame(data=lasso.coef_).T\n",
    "lasso_coef01.columns = X_train.columns\n",
    "lasso_coef01 = lasso_coef01.T.sort_values(by=0).T\n",
    "lasso_coef01.plot(kind='bar', title='Modal Coefficients', legend=False, figsize=(16,8))"
   ]
  },
  {
   "cell_type": "code",
   "execution_count": 26,
   "metadata": {},
   "outputs": [
    {
     "data": {
      "text/html": [
       "<div>\n",
       "<style scoped>\n",
       "    .dataframe tbody tr th:only-of-type {\n",
       "        vertical-align: middle;\n",
       "    }\n",
       "\n",
       "    .dataframe tbody tr th {\n",
       "        vertical-align: top;\n",
       "    }\n",
       "\n",
       "    .dataframe thead th {\n",
       "        text-align: right;\n",
       "    }\n",
       "</style>\n",
       "<table border=\"1\" class=\"dataframe\">\n",
       "  <thead>\n",
       "    <tr style=\"text-align: right;\">\n",
       "      <th></th>\n",
       "      <th>0</th>\n",
       "    </tr>\n",
       "  </thead>\n",
       "  <tbody>\n",
       "    <tr>\n",
       "      <th>bed</th>\n",
       "      <td>-0.032516</td>\n",
       "    </tr>\n",
       "    <tr>\n",
       "      <th>grade_11</th>\n",
       "      <td>0.000000</td>\n",
       "    </tr>\n",
       "    <tr>\n",
       "      <th>grade_12</th>\n",
       "      <td>0.000000</td>\n",
       "    </tr>\n",
       "    <tr>\n",
       "      <th>grade_13</th>\n",
       "      <td>0.000000</td>\n",
       "    </tr>\n",
       "    <tr>\n",
       "      <th>waterfront</th>\n",
       "      <td>0.000000</td>\n",
       "    </tr>\n",
       "    <tr>\n",
       "      <th>bath</th>\n",
       "      <td>0.043547</td>\n",
       "    </tr>\n",
       "    <tr>\n",
       "      <th>grade_9</th>\n",
       "      <td>0.058332</td>\n",
       "    </tr>\n",
       "    <tr>\n",
       "      <th>grade_10</th>\n",
       "      <td>0.092147</td>\n",
       "    </tr>\n",
       "    <tr>\n",
       "      <th>view_bin</th>\n",
       "      <td>0.196652</td>\n",
       "    </tr>\n",
       "    <tr>\n",
       "      <th>living</th>\n",
       "      <td>0.306990</td>\n",
       "    </tr>\n",
       "  </tbody>\n",
       "</table>\n",
       "</div>"
      ],
      "text/plain": [
       "                   0\n",
       "bed        -0.032516\n",
       "grade_11    0.000000\n",
       "grade_12    0.000000\n",
       "grade_13    0.000000\n",
       "waterfront  0.000000\n",
       "bath        0.043547\n",
       "grade_9     0.058332\n",
       "grade_10    0.092147\n",
       "view_bin    0.196652\n",
       "living      0.306990"
      ]
     },
     "execution_count": 26,
     "metadata": {},
     "output_type": "execute_result"
    }
   ],
   "source": [
    "# checking for any coefficients that converge to 0\n",
    "\n",
    "lasso_coef01.T"
   ]
  },
  {
   "cell_type": "code",
   "execution_count": null,
   "metadata": {},
   "outputs": [],
   "source": []
  },
  {
   "cell_type": "code",
   "execution_count": null,
   "metadata": {},
   "outputs": [],
   "source": []
  }
 ],
 "metadata": {
  "kernelspec": {
   "display_name": "Python 3",
   "language": "python",
   "name": "python3"
  },
  "language_info": {
   "codemirror_mode": {
    "name": "ipython",
    "version": 3
   },
   "file_extension": ".py",
   "mimetype": "text/x-python",
   "name": "python",
   "nbconvert_exporter": "python",
   "pygments_lexer": "ipython3",
   "version": "3.8.2"
  }
 },
 "nbformat": 4,
 "nbformat_minor": 4
}
