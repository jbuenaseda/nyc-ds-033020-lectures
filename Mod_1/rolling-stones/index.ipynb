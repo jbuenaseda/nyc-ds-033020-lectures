{
 "cells": [
  {
   "cell_type": "markdown",
   "metadata": {},
   "source": [
    "# Instructions:"
   ]
  },
  {
   "cell_type": "markdown",
   "metadata": {},
   "source": [
    "## Getting Started\n",
    "In this exercise, we will be using data from `rolling stone's top 500 albums`. We have this data contained in the `data.csv` file. We will be building out the following functions to answer questions and interact with this data.\n",
    "\n",
    "> **remember:** reading from a csv file in python looks like the following:\n",
    "\n",
    "```python \n",
    "import csv\n",
    "\n",
    "    with open(file_name) as f:\n",
    "        # we are using DictReader because we want our information to be in dictionary format.\n",
    "        reader = csv.DictReader(f)\n",
    "        # some more code\n",
    "```\n",
    "\n",
    "Once we have our `reader` reading our file as dictionaries, we want our data to be a list of dictionaries. So, we need to loop through our `reader` and create a list. *hint: list comprehension / for loops are your friend\"\n",
    "\n",
    "```python\n",
    "# our data will look something like this once we have read it and turned it into a list of `OrderedDict`s\n",
    "# don't worry, the ordered dicts look different but we can interact with them the same way we do normal dicts\n",
    "[OrderedDict([('number', '1'), ('year', '1967'), ('album', \"Sgt. Pepper's Lonely Hearts Club Band\"), ('artist', 'The Beatles'), ('genre', 'Rock'), ('subgenre', 'Rock & Roll, Psychedelic Rock')]), OrderedDict([('number', '2'), ('year', '1966'), ('album', 'Pet Sounds'), ('artist', 'The Beach Boys'), ('genre', 'Rock'), ('subgenre', 'Pop Rock, Psychedelic Rock')]), OrderedDict([('number', '3'), ('year', '1966'), ('album', 'Revolver'), ('artist', 'The Beatles'), ('genre', 'Rock'), ('subgenre', 'Psychedelic Rock, Pop Rock')])]\n",
    "```\n",
    "\n",
    "After we have our data formated the way we want it, we can now begin working on defining our functions."
   ]
  },
  {
   "cell_type": "code",
   "execution_count": 62,
   "metadata": {
    "collapsed": false,
    "scrolled": true
   },
   "outputs": [],
   "source": [
    "import csv\n",
    "\n",
    "with open('data.csv') as f:\n",
    "    albums = []\n",
    "    for row in csv.DictReader(f):\n",
    "        albums.append(row)\n",
    "     \n",
    "#albums"
   ]
  },
  {
   "cell_type": "code",
   "execution_count": 57,
   "metadata": {
    "collapsed": false
   },
   "outputs": [],
   "source": [
    "from functions import *"
   ]
  },
  {
   "cell_type": "markdown",
   "metadata": {},
   "source": [
    "\n",
    "### Functions to build-out:\n",
    "\n",
    "Each of the following functions can be defined in the `functions.py` file. \n",
    "\n",
    "* **Searching functions**\n",
    "  * Find by name - Takes in a string that represents the name of an album. Should return a dictionary with the correct album, or return `None`.\n",
    "  * Find by rank - Takes in a number that represents the rank in the list of top albums and returns the album with that rank. If there is no album with that rank, it returns `None`.\n",
    "  * Find by year - Takes in a number for the year in which an album was released and returns a list of albums that were released in that year. If there are no albums released in the given year, it returns an empty list.\n",
    "  * Find by years - Takes in a start year and end year. Returns a list of all albums that were released on or between the start and end years. If no albums are found for those years, then an empty list is returned. \n",
    "  * Find by ranks - Takes in a start rank and end rank. Returns a list of albums that are ranked between the start and end ranks. If no albums are found for those ranks, then an empty list is returned.\n",
    "* **All functions**\n",
    "  * All titles - Returns a list of titles for each album.\n",
    "  * All artists - Returns a list of artist names for each album.\n",
    "* **Questions to answer / functions**\n",
    "  * Artists with the most albums - Returns the artist with the highest amount of albums on the list of top albums \n",
    "  * Most popular word - Returns the word used most in amongst all album titles\n",
    "  * Histogram of albums by decade - Returns a histogram with each decade pointing to the number of albums released during that decade.\n",
    "  * Histogram by genre - Returns a histogram with each genre pointing to the number of albums that are categorized as being in that genre."
   ]
  },
  {
   "cell_type": "code",
   "execution_count": 48,
   "metadata": {
    "collapsed": false
   },
   "outputs": [],
   "source": [
    "import matplotlib.pyplot as plt\n",
    "import collections\n"
   ]
  },
  {
   "cell_type": "code",
   "execution_count": 49,
   "metadata": {
    "collapsed": true
   },
   "outputs": [],
   "source": [
    "# Pass album name, returns dict of album info.\n",
    "def find_by_name(name, data_set):\n",
    "    for album in data_set:\n",
    "        if album['album'].lower() == name.lower():\n",
    "            return album\n",
    "        else:\n",
    "            return None"
   ]
  },
  {
   "cell_type": "code",
   "execution_count": 50,
   "metadata": {
    "collapsed": false,
    "scrolled": true
   },
   "outputs": [
    {
     "data": {
      "text/plain": [
       "{'album': \"Sgt. Pepper's Lonely Hearts Club Band\",\n",
       " 'artist': 'The Beatles',\n",
       " 'genre': 'Rock',\n",
       " 'number': '1',\n",
       " 'subgenre': 'Rock & Roll, Psychedelic Rock',\n",
       " 'year': '1967'}"
      ]
     },
     "execution_count": 50,
     "metadata": {},
     "output_type": "execute_result"
    }
   ],
   "source": [
    "find_by_name(\"Sgt. Pepper's Lonely Hearts Club Band\", albums)"
   ]
  },
  {
   "cell_type": "code",
   "execution_count": 89,
   "metadata": {
    "collapsed": false
   },
   "outputs": [],
   "source": [
    "# Pass album rank, returns album name, rank.\n",
    "# def find_by_rank(rank, data_set):\n",
    "#     for album in data_set:\n",
    "#         if album['number'] == str(rank):\n",
    "#             return album\n",
    "#         return None"
   ]
  },
  {
   "cell_type": "code",
   "execution_count": 95,
   "metadata": {
    "collapsed": true
   },
   "outputs": [],
   "source": [
    "def find_by_rank(rank, our_data):\n",
    "    for album in our_data:\n",
    "        if int(album['number']) == rank:\n",
    "            return album\n",
    "    return None"
   ]
  },
  {
   "cell_type": "code",
   "execution_count": 96,
   "metadata": {
    "collapsed": false,
    "scrolled": true
   },
   "outputs": [
    {
     "data": {
      "text/plain": [
       "{'album': 'Music From Big Pink',\n",
       " 'artist': 'The Band',\n",
       " 'genre': 'Rock',\n",
       " 'number': '34',\n",
       " 'subgenre': 'Folk Rock, Acoustic, Blues Rock',\n",
       " 'year': '1968'}"
      ]
     },
     "execution_count": 96,
     "metadata": {},
     "output_type": "execute_result"
    }
   ],
   "source": [
    "find_by_rank(34, albums)"
   ]
  },
  {
   "cell_type": "code",
   "execution_count": 97,
   "metadata": {
    "collapsed": true
   },
   "outputs": [],
   "source": [
    "# Pass year, returns list of album names in that year. \n",
    "def find_by_year(year, data_set):\n",
    "    result = []\n",
    "    for album in data_set:\n",
    "        if int(album['year']) == year:\n",
    "            result.append(album['album'])\n",
    "    return result"
   ]
  },
  {
   "cell_type": "code",
   "execution_count": 99,
   "metadata": {
    "collapsed": false,
    "scrolled": true
   },
   "outputs": [
    {
     "data": {
      "text/plain": [
       "['At Last!', 'Muddy Waters at Newport 1960', 'Sketches of Spain']"
      ]
     },
     "execution_count": 99,
     "metadata": {},
     "output_type": "execute_result"
    }
   ],
   "source": [
    "find_by_year(1960, albums)"
   ]
  },
  {
   "cell_type": "code",
   "execution_count": 100,
   "metadata": {
    "collapsed": true
   },
   "outputs": [],
   "source": [
    "def find_by_years(start_yr, end_yr, data_set):\n",
    "    result = []\n",
    "    for album in data_set:\n",
    "        if int(album['year']) in range(start_yr, end_yr + 1):\n",
    "            result.append(album['album'])\n",
    "    return result"
   ]
  },
  {
   "cell_type": "code",
   "execution_count": 102,
   "metadata": {
    "collapsed": false,
    "scrolled": true
   },
   "outputs": [
    {
     "data": {
      "text/plain": [
       "['Live at the Apollo, 1962',\n",
       " 'Please Please Me',\n",
       " \"The Freewheelin' Bob Dylan\",\n",
       " 'A Christmas Gift for You From Phil Spector',\n",
       " \"Howlin' Wolf\",\n",
       " 'Presenting the Fabulous Ronettes Featuring Veronica']"
      ]
     },
     "execution_count": 102,
     "metadata": {},
     "output_type": "execute_result"
    }
   ],
   "source": [
    "find_by_years(1962, 1963, albums)"
   ]
  },
  {
   "cell_type": "code",
   "execution_count": 103,
   "metadata": {
    "collapsed": true
   },
   "outputs": [],
   "source": [
    "# Pass start and end ranks, returns list of album names in range (inclusive).\n",
    "def find_by_ranks(start_rk, end_rk, data_set):\n",
    "    result = []\n",
    "    for album in data_set:\n",
    "        if int(album['number']) in range(start_rk, end_rk + 1):\n",
    "            result.append(album['album'])\n",
    "    return result"
   ]
  },
  {
   "cell_type": "code",
   "execution_count": 104,
   "metadata": {
    "collapsed": false,
    "scrolled": true
   },
   "outputs": [
    {
     "data": {
      "text/plain": [
       "[\"Sgt. Pepper's Lonely Hearts Club Band\",\n",
       " 'Pet Sounds',\n",
       " 'Revolver',\n",
       " 'Highway 61 Revisited',\n",
       " 'Rubber Soul']"
      ]
     },
     "execution_count": 104,
     "metadata": {},
     "output_type": "execute_result"
    }
   ],
   "source": [
    "find_by_ranks(1,5, albums)"
   ]
  },
  {
   "cell_type": "code",
   "execution_count": 105,
   "metadata": {
    "collapsed": true
   },
   "outputs": [],
   "source": [
    "#All titles - Returns a list of album titles for each album.\n",
    "def all_albums(data_set):\n",
    "    result = []\n",
    "    for album in data_set:\n",
    "        result.append(album['album'])\n",
    "    return result"
   ]
  },
  {
   "cell_type": "code",
   "execution_count": 107,
   "metadata": {
    "collapsed": false
   },
   "outputs": [],
   "source": [
    "#all_albums(albums)"
   ]
  },
  {
   "cell_type": "code",
   "execution_count": 108,
   "metadata": {
    "collapsed": true
   },
   "outputs": [],
   "source": [
    "#All artists - Returns a list of artist names for each album.\n",
    "def all_artists(data_set):\n",
    "    result = []\n",
    "    for album in data_set:\n",
    "        result.append(album['artist'])\n",
    "    return result"
   ]
  },
  {
   "cell_type": "code",
   "execution_count": 111,
   "metadata": {
    "collapsed": false
   },
   "outputs": [],
   "source": [
    "#all_artists(albums)"
   ]
  },
  {
   "cell_type": "code",
   "execution_count": 118,
   "metadata": {
    "collapsed": true
   },
   "outputs": [],
   "source": [
    "#Artists with the most albums - Returns the artist with the highest amount of albums on the list of top albums\n",
    "def artist_w_most_albums(data_set):\n",
    "    sample = all_artists(data_set)\n",
    "    c = collections.Counter(sample)\n",
    "    return c.most_common(5)"
   ]
  },
  {
   "cell_type": "code",
   "execution_count": 119,
   "metadata": {
    "collapsed": false,
    "scrolled": true
   },
   "outputs": [
    {
     "data": {
      "text/plain": [
       "[('The Rolling Stones', 10),\n",
       " ('Bob Dylan', 10),\n",
       " ('The Beatles', 10),\n",
       " ('Bruce Springsteen', 8),\n",
       " ('The Who', 7)]"
      ]
     },
     "execution_count": 119,
     "metadata": {},
     "output_type": "execute_result"
    }
   ],
   "source": [
    "artist_w_most_albums(albums)"
   ]
  },
  {
   "cell_type": "code",
   "execution_count": 123,
   "metadata": {
    "collapsed": true
   },
   "outputs": [],
   "source": [
    "#Most popular word - Returns the word used most in amongst all album titles    \n",
    "def most_popular_word(data_set):\n",
    "    result = []\n",
    "    for title in all_albums(data_set):\n",
    "        word_list = title.split()\n",
    "        for word in word_list:\n",
    "            result.append(word)\n",
    "    c = collections.Counter(result)\n",
    "    return c.most_common(1)"
   ]
  },
  {
   "cell_type": "code",
   "execution_count": 124,
   "metadata": {
    "collapsed": false,
    "scrolled": false
   },
   "outputs": [
    {
     "data": {
      "text/plain": [
       "[('The', 73)]"
      ]
     },
     "execution_count": 124,
     "metadata": {},
     "output_type": "execute_result"
    }
   ],
   "source": [
    "most_popular_word(albums)"
   ]
  },
  {
   "cell_type": "code",
   "execution_count": 125,
   "metadata": {
    "collapsed": true
   },
   "outputs": [],
   "source": [
    "#Histogram of albums by decade - Returns a histogram with each decade pointing to the number of albums released during that decade.\n",
    "def year_hist(data_set):\n",
    "    result = []\n",
    "    for album in data_set:\n",
    "        result.append(int(album['year']))\n",
    "    \n",
    "    num_bins = [1950, 1960, 1970, 1980, 1990, 2000, 2010, 2020]\n",
    "    plt.hist(result, num_bins, facecolor='blue', alpha=1)\n",
    "    plt.title('Album Histogram')\n",
    "    plt.xlabel('Number of Albums')\n",
    "    plt.ylabel('Years')\n",
    "    return plt.show()"
   ]
  },
  {
   "cell_type": "code",
   "execution_count": 126,
   "metadata": {
    "collapsed": true
   },
   "outputs": [],
   "source": [
    "year_hist(albums)"
   ]
  },
  {
   "cell_type": "code",
   "execution_count": 127,
   "metadata": {
    "collapsed": true
   },
   "outputs": [],
   "source": [
    "#Histogram by genre - Returns a histogram with each genre pointing to the number of albums that are categorized as being in that genre.                     \n",
    "def genre_hist(data_set):\n",
    "    result = []\n",
    "    for album in data_set:\n",
    "        result.append(album['genre']) \n",
    "        \n",
    "    c = collections.Counter(result)\n",
    "    plt.bar(range(len(c)), c.values(), alpha=1)\n",
    "    plt.title('Genre')\n",
    "    plt.xlabel('Genres')\n",
    "    plt.ylabel('Counter')\n",
    "    return plt.show()"
   ]
  },
  {
   "cell_type": "code",
   "execution_count": 128,
   "metadata": {
    "collapsed": true
   },
   "outputs": [],
   "source": [
    "genre_hist(albums)"
   ]
  },
  {
   "cell_type": "markdown",
   "metadata": {},
   "source": [
    "## Next Steps"
   ]
  },
  {
   "cell_type": "code",
   "execution_count": 134,
   "metadata": {
    "collapsed": false
   },
   "outputs": [],
   "source": [
    "text_file = open('top-500-songs.txt', 'r')\n",
    "lines = text_file.readlines()\n",
    "\n",
    "song_list = []\n",
    "for line in lines:\n",
    "    line_list = line.split('\\t')\n",
    "    song_list.append(line_list)      \n",
    "\n",
    "songs = []\n",
    "\n",
    "for s in song_list:\n",
    "    song = {'rank': s[0],\n",
    "            'name': s[1],\n",
    "            'artist': s[2],\n",
    "            'year': s[3][:-1],\n",
    "                }\n",
    "    songs.append(song)\n",
    "    \n",
    "#songs\n"
   ]
  },
  {
   "cell_type": "markdown",
   "metadata": {},
   "source": [
    "### Working with the top 500 songs"
   ]
  },
  {
   "cell_type": "markdown",
   "metadata": {},
   "source": [
    "If we can't already re-use our searching functions (i.e. Find by name, Find by rank, Find by year, Find by years, Find by ranks), all functions (i.e. all titles, all artists), and questions-to-answer functions (i.e. Artists with the most albums (or songs), Most popular word, Histogram by decade, Histogram by genre) with the song data we just formatted, then refactor these functions so that they can be used with either set of data. This is a good practice for ensuring that our code is as reusable and modular as possible, which is important when writing code for any project, especially when it comes time to scale a project. Things are easier to read, and there is less code to worry about (and more importantly there is less code to debug when something goes wrong).\n",
    "\n",
    "Once we have our functions working for both sets of data, we can start writing new functions!\n",
    "\n",
    "Luckily for us, this next dataset is already made for us. We were curious to find out which songs on the top 500 songs overlapped with the top albums and vice versa. So, we created a data set that is a list of dictionaries in JSON format. Each dictionary contains the name of the artist, the album, and the tracks (songs) on that given album. We can use this data to check which songs on the top 500 list are featured on the albums on the top albums list.\n",
    "\n",
    "To load our JSON file we will write:\n",
    "\n",
    "```python\n",
    "import json\n",
    "\n",
    "file = open('track_data.json', 'r')\n",
    "json_data = json.load(file)\n",
    "\n",
    "print(json_data)"
   ]
  },
  {
   "cell_type": "code",
   "execution_count": 136,
   "metadata": {
    "collapsed": false
   },
   "outputs": [],
   "source": [
    "import json\n",
    "\n",
    "file = open('track_data.json', 'r')\n",
    "albums_json = json.load(file)\n",
    "#albums_json"
   ]
  },
  {
   "cell_type": "markdown",
   "metadata": {},
   "source": [
    "### Define the following functions:\n",
    "\n",
    "**albumWithMostTopSongs** - returns the name of the artist and album that has that most songs featured on the top 500 songs list\n",
    "\n",
    "**albumsWithTopSongs** - returns a list with the name of only the albums that have tracks featured on the list of top 500 songs\n",
    "\n",
    "**songsThatAreOnTopAlbums** - returns a list with the name of only the songs featured on the list of top albums\n",
    "\n",
    "**top10AlbumsByTopSongs** - returns a histogram with the 10 albums that have the most songs that appear in the top songs list. The album names should point to the number of songs that appear on the top 500 songs list.\n",
    "\n",
    "**topOverallArtist** - Artist featured with the most songs and albums on the two lists. This means that if Brittany Spears had 3 of her albums featured on the top albums listed and 10 of her songs featured on the top songs, she would have a total of 13. The artist with the highest aggregate score would be the top overall artist."
   ]
  },
  {
   "cell_type": "code",
   "execution_count": 137,
   "metadata": {
    "collapsed": true
   },
   "outputs": [],
   "source": [
    "# Returns the album with the most Top 500 songs.\n",
    "def album_w_most_songs():\n",
    "    sample = {}\n",
    "    most_songs = 0\n",
    "    top_album = []\n",
    "    for album in albums_json:\n",
    "        i = 0\n",
    "        track_list = []\n",
    "        for song in album['tracks']:\n",
    "            track_list.append(song)\n",
    "            for track in track_list:\n",
    "                if track in top_500:\n",
    "                    i += 1\n",
    "                    sample[album['album']] = [album['artist'], i]\n",
    "                    if i > most_songs:\n",
    "                        most_songs = i\n",
    "                        top_album = [album['artist'], album['album']]\n",
    "    return top_album"
   ]
  },
  {
   "cell_type": "code",
   "execution_count": 138,
   "metadata": {
    "collapsed": false,
    "scrolled": true
   },
   "outputs": [
    {
     "data": {
      "text/plain": [
       "['Elvis Presley', 'Elvis Presley']"
      ]
     },
     "execution_count": 138,
     "metadata": {},
     "output_type": "execute_result"
    }
   ],
   "source": [
    "album_w_most_songs()"
   ]
  },
  {
   "cell_type": "code",
   "execution_count": 139,
   "metadata": {
    "collapsed": true
   },
   "outputs": [],
   "source": [
    "# Returns list of albums with a Top 500 song.\n",
    "def albums_w_top_songs():\n",
    "    result = []\n",
    "    for album in albums_json:\n",
    "        track_list = []\n",
    "        for song in album['tracks']:\n",
    "            track_list.append(song)\n",
    "            for track in track_list:\n",
    "                if track in top_500:\n",
    "                    result.append(album['album'])\n",
    "    return list(set(result))"
   ]
  },
  {
   "cell_type": "code",
   "execution_count": 141,
   "metadata": {
    "collapsed": false
   },
   "outputs": [],
   "source": [
    "#albums_w_top_songs()"
   ]
  },
  {
   "cell_type": "code",
   "execution_count": 142,
   "metadata": {
    "collapsed": true
   },
   "outputs": [],
   "source": [
    "# Returns list of songs in the Top Albums.\n",
    "def songs_in_top_albums():\n",
    "    result = []\n",
    "    for album in albums_json:\n",
    "        if album['album'] in all_albums(albums):\n",
    "            for song in album['tracks']:\n",
    "                result.append(song)\n",
    "    return result"
   ]
  },
  {
   "cell_type": "code",
   "execution_count": 144,
   "metadata": {
    "collapsed": false
   },
   "outputs": [],
   "source": [
    "#songs_in_top_albums()"
   ]
  },
  {
   "cell_type": "code",
   "execution_count": 149,
   "metadata": {
    "collapsed": false
   },
   "outputs": [],
   "source": [
    "# Returns hist of Top 10 Albums.\n",
    "def album_top_10():\n",
    "    sample = []\n",
    "    for album in albums_json:\n",
    "        track_list = []\n",
    "        for song in album['tracks']:\n",
    "            track_list.append(song)\n",
    "            for track in track_list:\n",
    "                if track in all_songs(songs):\n",
    "                    sample.append(album['album'])\n",
    "    counter = collections.Counter(sample)\n",
    "    c = counter.most_common(10)\n",
    "    numbers = []\n",
    "    titles = []\n",
    "    for item in counter.most_common(10):\n",
    "        titles.append(item[0])\n",
    "        numbers.append(item[1])\n",
    "    plt.bar(range(len(titles)), numbers, alpha=1)\n",
    "    plt.title('Top 10 Album')\n",
    "    plt.xlabel('Albums')\n",
    "    plt.ylabel('Apperances')\n",
    "    return plt.show()"
   ]
  },
  {
   "cell_type": "code",
   "execution_count": 152,
   "metadata": {
    "collapsed": false
   },
   "outputs": [],
   "source": [
    "#album_top_10()"
   ]
  },
  {
   "cell_type": "code",
   "execution_count": 154,
   "metadata": {
    "collapsed": false
   },
   "outputs": [],
   "source": [
    "# Returns top overall artist.\n",
    "def top_overall_artist():\n",
    "    sample = {}\n",
    "    i = 0\n",
    "    for artist in all_artists(albums):\n",
    "        sample[artist] = i\n",
    "    for album in albums_json:\n",
    "        if album['album'] in all_albums(albums):\n",
    "            sample[album['artist']] += 1\n",
    "    for song in songs:\n",
    "        if song['artist'] not in sample.keys():\n",
    "            sample[song['artist']] = i + 1\n",
    "        sample[song['artist']] += 1\n",
    "    top = max(sample.values())\n",
    "    for artist in sample:\n",
    "        if sample[artist] == top:\n",
    "            return artist, top"
   ]
  },
  {
   "cell_type": "code",
   "execution_count": 155,
   "metadata": {
    "collapsed": false
   },
   "outputs": [
    {
     "data": {
      "text/plain": [
       "('The Beatles', 33)"
      ]
     },
     "execution_count": 155,
     "metadata": {},
     "output_type": "execute_result"
    }
   ],
   "source": [
    "top_overall_artist()"
   ]
  },
  {
   "cell_type": "markdown",
   "metadata": {},
   "source": [
    "### End."
   ]
  }
 ],
 "metadata": {
  "kernelspec": {
   "display_name": "Python [Root]",
   "language": "python",
   "name": "Python [Root]"
  },
  "language_info": {
   "codemirror_mode": {
    "name": "ipython",
    "version": 3
   },
   "file_extension": ".py",
   "mimetype": "text/x-python",
   "name": "python",
   "nbconvert_exporter": "python",
   "pygments_lexer": "ipython3",
   "version": "3.5.1"
  }
 },
 "nbformat": 4,
 "nbformat_minor": 2
}
