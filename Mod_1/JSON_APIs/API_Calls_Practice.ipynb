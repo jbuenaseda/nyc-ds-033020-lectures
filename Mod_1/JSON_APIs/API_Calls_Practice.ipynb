{
 "cells": [
  {
   "cell_type": "markdown",
   "metadata": {},
   "source": [
    "## Starting Off\n",
    "\n",
    "Message me one question you have about APIs. Any question at all "
   ]
  },
  {
   "cell_type": "markdown",
   "metadata": {},
   "source": [
    "# Using APIs and JSON Data"
   ]
  },
  {
   "cell_type": "markdown",
   "metadata": {},
   "source": [
    "## Objectives\n",
    "You will be able to:\n",
    "* Make an API call to Yelp "
   ]
  },
  {
   "cell_type": "markdown",
   "metadata": {},
   "source": [
    "\n",
    "## Agenda\n",
    "\n",
    "* Build up an API Call\n",
    "* Look at the results\n"
   ]
  },
  {
   "cell_type": "code",
   "execution_count": 60,
   "metadata": {
    "collapsed": true
   },
   "outputs": [],
   "source": [
    "import requests\n",
    "import json"
   ]
  },
  {
   "cell_type": "markdown",
   "metadata": {},
   "source": [
    "For more information about the request package you can use the following resources:\n",
    "\n",
    "**Tutorial:** https://realpython.com/python-requests/\n",
    "\n",
    "**Package Documentation:** https://requests.readthedocs.io/en/master/"
   ]
  },
  {
   "cell_type": "markdown",
   "metadata": {},
   "source": [
    "![](quota.png)"
   ]
  },
  {
   "cell_type": "markdown",
   "metadata": {},
   "source": [
    "Let's do a search of businesses on the Yelp API.  "
   ]
  },
  {
   "cell_type": "code",
   "execution_count": 61,
   "metadata": {
    "collapsed": true
   },
   "outputs": [],
   "source": [
    "# set theurl and endpoint we want to hit\n",
    "url =  'https://api.yelp.com/v3/businesses/search'\n"
   ]
  },
  {
   "cell_type": "markdown",
   "metadata": {},
   "source": [
    "Now that you have an API key, let's enter set that information here so that we can do our searches. Once you have the `api_key` variable, place int in our header."
   ]
  },
  {
   "cell_type": "code",
   "execution_count": 1,
   "metadata": {
    "collapsed": true
   },
   "outputs": [],
   "source": [
    "client_id = '9oud9pgPIhoXYt0000Ulyg'\n",
    "api_key = 'LK2ZoCL5UXpQUnH6ZjkgLU8nYy0xAeIFvKqam8DfkZZK_jHIPGttsHpEXhZyqQKVGuAFkqhHdAZ7Cj7yINRVhvxu08tizaxZfR5jrnGbRTwNTE5WqQPGjifRLpmPXnYx'"
   ]
  },
  {
   "cell_type": "code",
   "execution_count": 1,
   "metadata": {
    "collapsed": true
   },
   "outputs": [],
   "source": [
    "from  keys  import  client_id, api_key"
   ]
  },
  {
   "cell_type": "code",
   "execution_count": 2,
   "metadata": {
    "collapsed": false
   },
   "outputs": [
    {
     "name": "stdout",
     "output_type": "stream",
     "text": [
      "LK2ZoCL5UXpQUnH6ZjkgLU8nYy0xAeIFvKqam8DfkZZK_jHIPGttsHpEXhZyqQKVGuAFkqhHdAZ7Cj7yINRVhvxu08tizaxZfR5jrnGbRTwNTE5WqQPGjifRLpmPXnYx\n"
     ]
    }
   ],
   "source": [
    "print(api_key)"
   ]
  },
  {
   "cell_type": "code",
   "execution_count": 4,
   "metadata": {
    "collapsed": false
   },
   "outputs": [],
   "source": [
    "headers = {\n",
    "        'Authorization': 'Bearer {}'.format(api_key),\n",
    "    }\n"
   ]
  },
  {
   "cell_type": "markdown",
   "metadata": {},
   "source": [
    "We now need to determine our parameters we want to pass.  \n",
    "\n",
    "You must give a specific search term, location and one other paramter to limit your search. \n",
    "\n",
    "Remember you can search the API documenation to find another parameter to limit your search.  \n",
    "https://www.yelp.com/developers/documentation/v3/get_started"
   ]
  },
  {
   "cell_type": "code",
   "execution_count": 6,
   "metadata": {
    "collapsed": true
   },
   "outputs": [],
   "source": [
    "# what type of business do you want to search\n",
    "term = 'thrift shop'\n",
    "\n",
    "#where do you want to perform this search\n",
    "location = 'Queens'\n",
    "\n",
    "# what is your other parameter you want to search against\n",
    "radius = 100"
   ]
  },
  {
   "cell_type": "code",
   "execution_count": 7,
   "metadata": {
    "collapsed": false
   },
   "outputs": [],
   "source": [
    "\n",
    "url_params = {\n",
    "                \"term\": term.replace(' ', '+'),\n",
    "                \"location\": location.replace(' ', '+'),\n",
    "                \"radius\" : radius,\n",
    "                \"limit\": 50\n",
    "            }\n"
   ]
  },
  {
   "cell_type": "code",
   "execution_count": 8,
   "metadata": {
    "collapsed": false
   },
   "outputs": [
    {
     "data": {
      "text/plain": [
       "{'limit': 50, 'location': 'Queens', 'radius': 100, 'term': 'thrift+shop'}"
      ]
     },
     "execution_count": 8,
     "metadata": {},
     "output_type": "execute_result"
    }
   ],
   "source": [
    "url_params"
   ]
  },
  {
   "cell_type": "markdown",
   "metadata": {},
   "source": [
    "Now that we have all of the parts necessary for an API call, let's put them together.  "
   ]
  },
  {
   "cell_type": "code",
   "execution_count": 14,
   "metadata": {
    "collapsed": false
   },
   "outputs": [],
   "source": [
    "response = requests.get(url, headers=headers, params=url_params)\n"
   ]
  },
  {
   "cell_type": "code",
   "execution_count": 15,
   "metadata": {
    "collapsed": false
   },
   "outputs": [
    {
     "name": "stdout",
     "output_type": "stream",
     "text": [
      "200\n"
     ]
    }
   ],
   "source": [
    "print(response.status_code)"
   ]
  },
  {
   "cell_type": "markdown",
   "metadata": {},
   "source": [
    "\n",
    "## The Response\n",
    "\n",
    "The response of a GET request often has some valuable information, known as a payload, in the message body. Using the attributes and methods of Response, you can view the payload in a variety of different formats.\n",
    "\n",
    "To see the response’s content in bytes, you use `.content`\n",
    "\n",
    "You will often want to convert them into a string using a character encoding such as UTF-8. Response will do that for you when you access `.text`\n",
    "\n",
    "The response is actually serialized JSON content. To get a dictionary, you could take the str you retrieved from `.text` and deserialize it using `json.loads()`. However, a simpler way to accomplish this task is to use `.json()`:"
   ]
  },
  {
   "cell_type": "code",
   "execution_count": 16,
   "metadata": {
    "collapsed": false
   },
   "outputs": [
    {
     "data": {
      "text/plain": [
       "'{\"businesses\": [{\"id\": \"8lKwJ8IVLrdNoGHj3ueaxQ\", \"alias\": \"sustainably-styled-jersey-city-3\", \"name\": \"Sustainably Styled\", \"image_url\": \"https://s3-media3.fl.yelpcdn.com/bphoto/n3zEFt9ctQUr7vCAa7o-Rw/o.jpg\", \"is_closed\": false, \"url\": \"https://www.yelp.com/biz/sustainably-styled-jersey-city-3?adjust_creative=9oud9pgPIhoXYt0000Ulyg&utm_campaign=yelp_api_v3&utm_medium=api_v3_business_search&utm_source=9oud9pgPIhoXYt0000Ulyg\", \"review_count\": 2, \"categories\": [{\"alias\": \"personal_shopping\", \"title\": \"Personal Shopping\"}], \"rating\": 5.0, \"coordinates\": {\"latitude\": 40.722, \"longitude\": -74.04651}, \"transactions\": [], \"location\": {\"address1\": \"\", \"address2\": null, \"address3\": \"\", \"city\": \"Jersey City\", \"zip_code\": \"07302\", \"country\": \"US\", \"state\": \"NY\", \"display_address\": [\"Jersey City, NY 07302\"]}, \"phone\": \"+16173098080\", \"display_phone\": \"(617) 309-8080\", \"distance\": 16202.559374226284}], \"total\": 1, \"region\": {\"center\": {\"longitude\": -73.85284423828125, \"latitude\": 40.73146603137887}}}'"
      ]
     },
     "execution_count": 16,
     "metadata": {},
     "output_type": "execute_result"
    }
   ],
   "source": [
    "response.text"
   ]
  },
  {
   "cell_type": "code",
   "execution_count": 17,
   "metadata": {
    "collapsed": false
   },
   "outputs": [
    {
     "data": {
      "text/plain": [
       "{'businesses': [{'alias': 'sustainably-styled-jersey-city-3',\n",
       "   'categories': [{'alias': 'personal_shopping',\n",
       "     'title': 'Personal Shopping'}],\n",
       "   'coordinates': {'latitude': 40.722, 'longitude': -74.04651},\n",
       "   'display_phone': '(617) 309-8080',\n",
       "   'distance': 16202.559374226284,\n",
       "   'id': '8lKwJ8IVLrdNoGHj3ueaxQ',\n",
       "   'image_url': 'https://s3-media3.fl.yelpcdn.com/bphoto/n3zEFt9ctQUr7vCAa7o-Rw/o.jpg',\n",
       "   'is_closed': False,\n",
       "   'location': {'address1': '',\n",
       "    'address2': None,\n",
       "    'address3': '',\n",
       "    'city': 'Jersey City',\n",
       "    'country': 'US',\n",
       "    'display_address': ['Jersey City, NY 07302'],\n",
       "    'state': 'NY',\n",
       "    'zip_code': '07302'},\n",
       "   'name': 'Sustainably Styled',\n",
       "   'phone': '+16173098080',\n",
       "   'rating': 5.0,\n",
       "   'review_count': 2,\n",
       "   'transactions': [],\n",
       "   'url': 'https://www.yelp.com/biz/sustainably-styled-jersey-city-3?adjust_creative=9oud9pgPIhoXYt0000Ulyg&utm_campaign=yelp_api_v3&utm_medium=api_v3_business_search&utm_source=9oud9pgPIhoXYt0000Ulyg'}],\n",
       " 'region': {'center': {'latitude': 40.73146603137887,\n",
       "   'longitude': -73.85284423828125}},\n",
       " 'total': 1}"
      ]
     },
     "execution_count": 17,
     "metadata": {},
     "output_type": "execute_result"
    }
   ],
   "source": [
    "json.loads(response.text)\n"
   ]
  },
  {
   "cell_type": "code",
   "execution_count": 28,
   "metadata": {
    "collapsed": false,
    "scrolled": true
   },
   "outputs": [
    {
     "data": {
      "text/plain": [
       "{'businesses': [{'alias': 'sustainably-styled-jersey-city-3',\n",
       "   'categories': [{'alias': 'personal_shopping',\n",
       "     'title': 'Personal Shopping'}],\n",
       "   'coordinates': {'latitude': 40.722, 'longitude': -74.04651},\n",
       "   'display_phone': '(617) 309-8080',\n",
       "   'distance': 16202.559374226284,\n",
       "   'id': '8lKwJ8IVLrdNoGHj3ueaxQ',\n",
       "   'image_url': 'https://s3-media3.fl.yelpcdn.com/bphoto/n3zEFt9ctQUr7vCAa7o-Rw/o.jpg',\n",
       "   'is_closed': False,\n",
       "   'location': {'address1': '',\n",
       "    'address2': None,\n",
       "    'address3': '',\n",
       "    'city': 'Jersey City',\n",
       "    'country': 'US',\n",
       "    'display_address': ['Jersey City, NY 07302'],\n",
       "    'state': 'NY',\n",
       "    'zip_code': '07302'},\n",
       "   'name': 'Sustainably Styled',\n",
       "   'phone': '+16173098080',\n",
       "   'rating': 5.0,\n",
       "   'review_count': 2,\n",
       "   'transactions': [],\n",
       "   'url': 'https://www.yelp.com/biz/sustainably-styled-jersey-city-3?adjust_creative=9oud9pgPIhoXYt0000Ulyg&utm_campaign=yelp_api_v3&utm_medium=api_v3_business_search&utm_source=9oud9pgPIhoXYt0000Ulyg'}],\n",
       " 'region': {'center': {'latitude': 40.73146603137887,\n",
       "   'longitude': -73.85284423828125}},\n",
       " 'total': 1}"
      ]
     },
     "execution_count": 28,
     "metadata": {},
     "output_type": "execute_result"
    }
   ],
   "source": [
    "response.json()"
   ]
  },
  {
   "cell_type": "markdown",
   "metadata": {},
   "source": [
    "Using one of the methods above load the response data and assign it to a variable `data`.\n"
   ]
  },
  {
   "cell_type": "code",
   "execution_count": 18,
   "metadata": {
    "collapsed": true
   },
   "outputs": [],
   "source": [
    "data = json.loads(response.text)"
   ]
  },
  {
   "cell_type": "code",
   "execution_count": null,
   "metadata": {
    "collapsed": true
   },
   "outputs": [],
   "source": [
    "What are the keys in this dictionary and the datatypes of their values."
   ]
  },
  {
   "cell_type": "code",
   "execution_count": 22,
   "metadata": {
    "collapsed": false
   },
   "outputs": [
    {
     "name": "stdout",
     "output_type": "stream",
     "text": [
      "region <class 'dict'>\n",
      "total <class 'int'>\n",
      "businesses <class 'list'>\n"
     ]
    }
   ],
   "source": [
    "# your code here\n",
    "for key in data:\n",
    "    print(key, type(data[key]))"
   ]
  },
  {
   "cell_type": "markdown",
   "metadata": {},
   "source": [
    "How many results did our query return?"
   ]
  },
  {
   "cell_type": "code",
   "execution_count": 23,
   "metadata": {
    "collapsed": false
   },
   "outputs": [
    {
     "name": "stdout",
     "output_type": "stream",
     "text": [
      "1\n"
     ]
    }
   ],
   "source": [
    "print(data['total'])"
   ]
  },
  {
   "cell_type": "markdown",
   "metadata": {},
   "source": [
    "How many businesses were returned from the API call?"
   ]
  },
  {
   "cell_type": "code",
   "execution_count": 24,
   "metadata": {
    "collapsed": false
   },
   "outputs": [
    {
     "name": "stdout",
     "output_type": "stream",
     "text": [
      "1\n"
     ]
    }
   ],
   "source": [
    "print(len(data['businesses']))\n"
   ]
  },
  {
   "cell_type": "code",
   "execution_count": 25,
   "metadata": {
    "collapsed": false
   },
   "outputs": [
    {
     "data": {
      "text/plain": [
       "{'alias': 'sustainably-styled-jersey-city-3',\n",
       " 'categories': [{'alias': 'personal_shopping', 'title': 'Personal Shopping'}],\n",
       " 'coordinates': {'latitude': 40.722, 'longitude': -74.04651},\n",
       " 'display_phone': '(617) 309-8080',\n",
       " 'distance': 16202.559374226284,\n",
       " 'id': '8lKwJ8IVLrdNoGHj3ueaxQ',\n",
       " 'image_url': 'https://s3-media3.fl.yelpcdn.com/bphoto/n3zEFt9ctQUr7vCAa7o-Rw/o.jpg',\n",
       " 'is_closed': False,\n",
       " 'location': {'address1': '',\n",
       "  'address2': None,\n",
       "  'address3': '',\n",
       "  'city': 'Jersey City',\n",
       "  'country': 'US',\n",
       "  'display_address': ['Jersey City, NY 07302'],\n",
       "  'state': 'NY',\n",
       "  'zip_code': '07302'},\n",
       " 'name': 'Sustainably Styled',\n",
       " 'phone': '+16173098080',\n",
       " 'rating': 5.0,\n",
       " 'review_count': 2,\n",
       " 'transactions': [],\n",
       " 'url': 'https://www.yelp.com/biz/sustainably-styled-jersey-city-3?adjust_creative=9oud9pgPIhoXYt0000Ulyg&utm_campaign=yelp_api_v3&utm_medium=api_v3_business_search&utm_source=9oud9pgPIhoXYt0000Ulyg'}"
      ]
     },
     "execution_count": 25,
     "metadata": {},
     "output_type": "execute_result"
    }
   ],
   "source": [
    "data['businesses'][0]"
   ]
  },
  {
   "cell_type": "markdown",
   "metadata": {},
   "source": [
    "### Parsing the Results\n",
    "\n",
    "There are a lot of key-value pairs for each business. Many of which we do not care about. Let's create a simple parser of this data that will return a list with the name, display_address, and one other data point of your choice. First we want to assign one of the businesses to the `business` variable. Once we cna properly parse oonne business  we can use a loop to do them all."
   ]
  },
  {
   "cell_type": "code",
   "execution_count": 32,
   "metadata": {
    "collapsed": true
   },
   "outputs": [],
   "source": [
    "business = data['businesses'][0]"
   ]
  },
  {
   "cell_type": "code",
   "execution_count": 33,
   "metadata": {
    "collapsed": false
   },
   "outputs": [
    {
     "data": {
      "text/plain": [
       "{'alias': 'sustainably-styled-jersey-city-3',\n",
       " 'categories': [{'alias': 'personal_shopping', 'title': 'Personal Shopping'}],\n",
       " 'coordinates': {'latitude': 40.722, 'longitude': -74.04651},\n",
       " 'display_phone': '(617) 309-8080',\n",
       " 'distance': 16202.559374226284,\n",
       " 'id': '8lKwJ8IVLrdNoGHj3ueaxQ',\n",
       " 'image_url': 'https://s3-media3.fl.yelpcdn.com/bphoto/n3zEFt9ctQUr7vCAa7o-Rw/o.jpg',\n",
       " 'is_closed': False,\n",
       " 'location': {'address1': '',\n",
       "  'address2': None,\n",
       "  'address3': '',\n",
       "  'city': 'Jersey City',\n",
       "  'country': 'US',\n",
       "  'display_address': ['Jersey City, NY 07302'],\n",
       "  'state': 'NY',\n",
       "  'zip_code': '07302'},\n",
       " 'name': 'Sustainably Styled',\n",
       " 'phone': '+16173098080',\n",
       " 'rating': 5.0,\n",
       " 'review_count': 2,\n",
       " 'transactions': [],\n",
       " 'url': 'https://www.yelp.com/biz/sustainably-styled-jersey-city-3?adjust_creative=9oud9pgPIhoXYt0000Ulyg&utm_campaign=yelp_api_v3&utm_medium=api_v3_business_search&utm_source=9oud9pgPIhoXYt0000Ulyg'}"
      ]
     },
     "execution_count": 33,
     "metadata": {},
     "output_type": "execute_result"
    }
   ],
   "source": [
    "business"
   ]
  },
  {
   "cell_type": "markdown",
   "metadata": {},
   "source": [
    "Rember we want the following pieces of information:\n",
    "name, display_address, and one other data point of your choice"
   ]
  },
  {
   "cell_type": "code",
   "execution_count": 41,
   "metadata": {
    "collapsed": false
   },
   "outputs": [],
   "source": [
    "biz_list = (business['name'], \n",
    "            ','.join(business['location']['display_address']), \n",
    "            business['display_phone'])"
   ]
  },
  {
   "cell_type": "code",
   "execution_count": 42,
   "metadata": {
    "collapsed": false
   },
   "outputs": [
    {
     "data": {
      "text/plain": [
       "('Sustainably Styled', 'Jersey City, NY 07302', '(617) 309-8080')"
      ]
     },
     "execution_count": 42,
     "metadata": {},
     "output_type": "execute_result"
    }
   ],
   "source": [
    "biz_list"
   ]
  },
  {
   "cell_type": "markdown",
   "metadata": {},
   "source": [
    "Now that we know how to do this for one business. Let create a function that recieves the list of businesses and returns a list of tuples with the important information."
   ]
  },
  {
   "cell_type": "code",
   "execution_count": 43,
   "metadata": {
    "collapsed": true
   },
   "outputs": [],
   "source": [
    "def parse_data(list_of_data):\n",
    "    # create a container to hold our parsed data\n",
    "    parsed_data = []\n",
    "    \n",
    "    # loop through our business and parse each individual business\n",
    "    for business in list_of_data:\n",
    "        print(business['name'])\n",
    "        biz_list = [business['name'], \n",
    "            ','.join(business['location']['display_address']), \n",
    "            business['display_phone']]\n",
    "    # in the loop, add each individual parsed  business to our data container\n",
    "        parsed_data.append(biz_list)\n",
    "\n",
    "    # return the container with all of the parsed results\n",
    "    return parsed_data"
   ]
  },
  {
   "cell_type": "code",
   "execution_count": 49,
   "metadata": {
    "collapsed": false
   },
   "outputs": [
    {
     "name": "stdout",
     "output_type": "stream",
     "text": [
      "Sustainably Styled\n"
     ]
    }
   ],
   "source": [
    "parse_data = parse_data(data['businesses'])"
   ]
  },
  {
   "cell_type": "code",
   "execution_count": 46,
   "metadata": {
    "collapsed": false
   },
   "outputs": [],
   "source": [
    "import pandas as pd"
   ]
  },
  {
   "cell_type": "code",
   "execution_count": 51,
   "metadata": {
    "collapsed": true
   },
   "outputs": [],
   "source": [
    "columns = ['Name, Address, Phone #']"
   ]
  },
  {
   "cell_type": "code",
   "execution_count": 54,
   "metadata": {
    "collapsed": false
   },
   "outputs": [],
   "source": [
    "df = pd.DataFrame(parse_data)"
   ]
  },
  {
   "cell_type": "code",
   "execution_count": 55,
   "metadata": {
    "collapsed": false
   },
   "outputs": [
    {
     "data": {
      "text/html": [
       "<div>\n",
       "<table border=\"1\" class=\"dataframe\">\n",
       "  <thead>\n",
       "    <tr style=\"text-align: right;\">\n",
       "      <th></th>\n",
       "      <th>0</th>\n",
       "      <th>1</th>\n",
       "      <th>2</th>\n",
       "    </tr>\n",
       "  </thead>\n",
       "  <tbody>\n",
       "    <tr>\n",
       "      <th>0</th>\n",
       "      <td>Sustainably Styled</td>\n",
       "      <td>Jersey City, NY 07302</td>\n",
       "      <td>(617) 309-8080</td>\n",
       "    </tr>\n",
       "  </tbody>\n",
       "</table>\n",
       "</div>"
      ],
      "text/plain": [
       "                    0                      1               2\n",
       "0  Sustainably Styled  Jersey City, NY 07302  (617) 309-8080"
      ]
     },
     "execution_count": 55,
     "metadata": {},
     "output_type": "execute_result"
    }
   ],
   "source": [
    "df"
   ]
  },
  {
   "cell_type": "code",
   "execution_count": 57,
   "metadata": {
    "collapsed": false
   },
   "outputs": [],
   "source": [
    "df.columns = ['Name', 'Address', 'Phone']"
   ]
  },
  {
   "cell_type": "code",
   "execution_count": 59,
   "metadata": {
    "collapsed": false
   },
   "outputs": [
    {
     "data": {
      "text/html": [
       "<div>\n",
       "<table border=\"1\" class=\"dataframe\">\n",
       "  <thead>\n",
       "    <tr style=\"text-align: right;\">\n",
       "      <th></th>\n",
       "      <th>Address</th>\n",
       "      <th>Phone</th>\n",
       "    </tr>\n",
       "    <tr>\n",
       "      <th>Name</th>\n",
       "      <th></th>\n",
       "      <th></th>\n",
       "    </tr>\n",
       "  </thead>\n",
       "  <tbody>\n",
       "    <tr>\n",
       "      <th>Sustainably Styled</th>\n",
       "      <td>Jersey City, NY 07302</td>\n",
       "      <td>(617) 309-8080</td>\n",
       "    </tr>\n",
       "  </tbody>\n",
       "</table>\n",
       "</div>"
      ],
      "text/plain": [
       "                                  Address           Phone\n",
       "Name                                                     \n",
       "Sustainably Styled  Jersey City, NY 07302  (617) 309-8080"
      ]
     },
     "execution_count": 59,
     "metadata": {},
     "output_type": "execute_result"
    }
   ],
   "source": [
    "df.set_index('Name')"
   ]
  },
  {
   "cell_type": "code",
   "execution_count": null,
   "metadata": {
    "collapsed": true
   },
   "outputs": [],
   "source": [
    "df.to_csv('yelp_thrift.csv')"
   ]
  }
 ],
 "metadata": {
  "anaconda-cloud": {},
  "kernelspec": {
   "display_name": "Python [Root]",
   "language": "python",
   "name": "Python [Root]"
  },
  "language_info": {
   "codemirror_mode": {
    "name": "ipython",
    "version": 3
   },
   "file_extension": ".py",
   "mimetype": "text/x-python",
   "name": "python",
   "nbconvert_exporter": "python",
   "pygments_lexer": "ipython3",
   "version": "3.5.1"
  }
 },
 "nbformat": 4,
 "nbformat_minor": 2
}
