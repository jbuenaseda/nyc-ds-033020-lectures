{
 "cells": [
  {
   "cell_type": "code",
   "execution_count": 155,
   "metadata": {},
   "outputs": [],
   "source": [
    "import pandas as pd\n",
    "import numpy as np\n",
    "from sklearn.model_selection import train_test_split\n",
    "import warnings\n",
    "warnings.filterwarnings('ignore')\n",
    "\n",
    "from sklearn.metrics import mean_squared_error, mean_squared_log_error\n",
    "from sklearn.linear_model import LogisticRegression"
   ]
  },
  {
   "cell_type": "code",
   "execution_count": 156,
   "metadata": {},
   "outputs": [],
   "source": [
    "train = 'dataset.csv'\n",
    "\n",
    "test = 'validation_set.csv'"
   ]
  },
  {
   "cell_type": "code",
   "execution_count": 157,
   "metadata": {},
   "outputs": [],
   "source": [
    "df = pd.read_csv(train, index_col=0)"
   ]
  },
  {
   "cell_type": "code",
   "execution_count": 158,
   "metadata": {
    "scrolled": true
   },
   "outputs": [
    {
     "data": {
      "text/plain": [
       "(   LIMIT_BAL  SEX  EDUCATION  MARRIAGE  AGE  PAY_0  PAY_2  PAY_3  PAY_4  \\\n",
       " 0     200000    2          3         1   30      2      2      2      2   \n",
       " 1     200000    2          4         2   27     -2     -2     -2     -2   \n",
       " 2      20000    2          2         2   28      0      0      2      0   \n",
       " 3      50000    1          2         2   23      0      0      0     -1   \n",
       " 4      20000    1          2         1   47     -1     -1     -1     -2   \n",
       " \n",
       "    PAY_5  ...  BILL_AMT4  BILL_AMT5  BILL_AMT6  PAY_AMT1  PAY_AMT2  PAY_AMT3  \\\n",
       " 0      2  ...     147273     149244     151973      6600      6000      5860   \n",
       " 1     -2  ...          0          0          0         0         0         0   \n",
       " 2      0  ...       8168       6894      11424      3353         3      5101   \n",
       " 3      0  ...      48437      18712      19129      4175     41000     51705   \n",
       " 4     -2  ...          0          0          0       780         0         0   \n",
       " \n",
       "    PAY_AMT4  PAY_AMT5  PAY_AMT6  default payment next month  \n",
       " 0      6000      5000         0                           0  \n",
       " 1         0         0         0                           0  \n",
       " 2         6      6530      8103                           1  \n",
       " 3       700       718       700                           0  \n",
       " 4         0         0         0                           0  \n",
       " \n",
       " [5 rows x 24 columns],\n",
       " (22500, 24))"
      ]
     },
     "execution_count": 158,
     "metadata": {},
     "output_type": "execute_result"
    }
   ],
   "source": [
    "df.head(), df.shape"
   ]
  },
  {
   "cell_type": "code",
   "execution_count": 159,
   "metadata": {
    "scrolled": true
   },
   "outputs": [
    {
     "data": {
      "text/plain": [
       "0        0\n",
       "1        0\n",
       "2        1\n",
       "3        0\n",
       "4        0\n",
       "        ..\n",
       "22495    0\n",
       "22496    0\n",
       "22497    0\n",
       "22498    0\n",
       "22499    0\n",
       "Name: default payment next month, Length: 22500, dtype: int64"
      ]
     },
     "execution_count": 159,
     "metadata": {},
     "output_type": "execute_result"
    }
   ],
   "source": [
    "df['default payment next month']"
   ]
  },
  {
   "cell_type": "code",
   "execution_count": 160,
   "metadata": {},
   "outputs": [],
   "source": [
    "x = df.drop('default payment next month', axis=1)\n",
    "y = df['default payment next month']"
   ]
  },
  {
   "cell_type": "code",
   "execution_count": 161,
   "metadata": {},
   "outputs": [
    {
     "data": {
      "text/plain": [
       "0    17523\n",
       "1     4977\n",
       "Name: default payment next month, dtype: int64"
      ]
     },
     "execution_count": 161,
     "metadata": {},
     "output_type": "execute_result"
    }
   ],
   "source": [
    "y.value_counts()"
   ]
  },
  {
   "cell_type": "markdown",
   "metadata": {},
   "source": [
    "## Attribute Information:\n",
    "\n",
    "This research employed a binary variable, default payment (Yes = 1, No = 0), as the response variable. This study reviewed the literature and used the following 23 variables as explanatory variables:\n",
    "\n",
    "* LIMIT_BAL: Amount of the given credit (NT dollar): it includes both the individual consumer credit and his/her family (supplementary) credit.\n",
    "\n",
    "* SEX: Gender (1 = male; 2 = female).\n",
    "\n",
    "* EDUCATION: Education (1 = graduate school; 2 = university; 3 = high school; 4 = others).\n",
    "\n",
    "* MARRIAGE: Marital status (1 = married; 2 = single; 3 = others).\n",
    "\n",
    "* AGE: Age (year).\n",
    "\n",
    "* PAY_0 - PAY_6: History of past payment. We tracked the past monthly payment records (from April to September, 2005) as follows:\n",
    "    * PAY_0 = the repayment status in September, 2005;\n",
    "    * PAY_1 = the repayment status in August, 2005;\n",
    "    * . . . ;\n",
    "    * PAY_6 = the repayment status in April, 2005.\n",
    "        * The measurement scale for the repayment status is:\n",
    "            * -1 = pay duly;\n",
    "            * 1 = payment delay for one month;\n",
    "            * 2 = payment delay for two months;\n",
    "            * . . . ;\n",
    "            * 8 = payment delay for eight months;\n",
    "            * 9 = payment delay for nine months and above.\n",
    "\n",
    "* BILL_AMT1 - BILL_AMT6: Amount of bill statement (NT dollar).\n",
    "    * BILL_AMT1 = amount of bill statement in September, 2005;\n",
    "    * BILL_AMT2 = amount of bill statement in August, 2005;\n",
    "    * . . . ;\n",
    "    * BILL_AMT6 = amount of bill statement in April, 2005.\n",
    "\n",
    "* PAY_AMT1 - PAY_AMT6: Amount of previous payment (NT dollar).\n",
    "    * PAY_AMT1 = amount paid in September, 2005;\n",
    "    * PAY_AMT1 = amount paid in August, 2005;\n",
    "    * . . . ;\n",
    "    * PAY_AMT6 = amount paid in April, 2005."
   ]
  },
  {
   "cell_type": "code",
   "execution_count": 162,
   "metadata": {},
   "outputs": [
    {
     "data": {
      "text/html": [
       "<div>\n",
       "<style scoped>\n",
       "    .dataframe tbody tr th:only-of-type {\n",
       "        vertical-align: middle;\n",
       "    }\n",
       "\n",
       "    .dataframe tbody tr th {\n",
       "        vertical-align: top;\n",
       "    }\n",
       "\n",
       "    .dataframe thead th {\n",
       "        text-align: right;\n",
       "    }\n",
       "</style>\n",
       "<table border=\"1\" class=\"dataframe\">\n",
       "  <thead>\n",
       "    <tr style=\"text-align: right;\">\n",
       "      <th></th>\n",
       "      <th>LIMIT_BAL</th>\n",
       "      <th>SEX</th>\n",
       "      <th>EDUCATION</th>\n",
       "      <th>MARRIAGE</th>\n",
       "      <th>AGE</th>\n",
       "      <th>PAY_0</th>\n",
       "      <th>PAY_2</th>\n",
       "      <th>PAY_3</th>\n",
       "      <th>PAY_4</th>\n",
       "      <th>PAY_5</th>\n",
       "      <th>...</th>\n",
       "      <th>BILL_AMT3</th>\n",
       "      <th>BILL_AMT4</th>\n",
       "      <th>BILL_AMT5</th>\n",
       "      <th>BILL_AMT6</th>\n",
       "      <th>PAY_AMT1</th>\n",
       "      <th>PAY_AMT2</th>\n",
       "      <th>PAY_AMT3</th>\n",
       "      <th>PAY_AMT4</th>\n",
       "      <th>PAY_AMT5</th>\n",
       "      <th>PAY_AMT6</th>\n",
       "    </tr>\n",
       "  </thead>\n",
       "  <tbody>\n",
       "    <tr>\n",
       "      <th>0</th>\n",
       "      <td>200000</td>\n",
       "      <td>2</td>\n",
       "      <td>3</td>\n",
       "      <td>1</td>\n",
       "      <td>30</td>\n",
       "      <td>2</td>\n",
       "      <td>2</td>\n",
       "      <td>2</td>\n",
       "      <td>2</td>\n",
       "      <td>2</td>\n",
       "      <td>...</td>\n",
       "      <td>145374</td>\n",
       "      <td>147273</td>\n",
       "      <td>149244</td>\n",
       "      <td>151973</td>\n",
       "      <td>6600</td>\n",
       "      <td>6000</td>\n",
       "      <td>5860</td>\n",
       "      <td>6000</td>\n",
       "      <td>5000</td>\n",
       "      <td>0</td>\n",
       "    </tr>\n",
       "    <tr>\n",
       "      <th>1</th>\n",
       "      <td>200000</td>\n",
       "      <td>2</td>\n",
       "      <td>4</td>\n",
       "      <td>2</td>\n",
       "      <td>27</td>\n",
       "      <td>-2</td>\n",
       "      <td>-2</td>\n",
       "      <td>-2</td>\n",
       "      <td>-2</td>\n",
       "      <td>-2</td>\n",
       "      <td>...</td>\n",
       "      <td>0</td>\n",
       "      <td>0</td>\n",
       "      <td>0</td>\n",
       "      <td>0</td>\n",
       "      <td>0</td>\n",
       "      <td>0</td>\n",
       "      <td>0</td>\n",
       "      <td>0</td>\n",
       "      <td>0</td>\n",
       "      <td>0</td>\n",
       "    </tr>\n",
       "    <tr>\n",
       "      <th>2</th>\n",
       "      <td>20000</td>\n",
       "      <td>2</td>\n",
       "      <td>2</td>\n",
       "      <td>2</td>\n",
       "      <td>28</td>\n",
       "      <td>0</td>\n",
       "      <td>0</td>\n",
       "      <td>2</td>\n",
       "      <td>0</td>\n",
       "      <td>0</td>\n",
       "      <td>...</td>\n",
       "      <td>4144</td>\n",
       "      <td>8168</td>\n",
       "      <td>6894</td>\n",
       "      <td>11424</td>\n",
       "      <td>3353</td>\n",
       "      <td>3</td>\n",
       "      <td>5101</td>\n",
       "      <td>6</td>\n",
       "      <td>6530</td>\n",
       "      <td>8103</td>\n",
       "    </tr>\n",
       "    <tr>\n",
       "      <th>3</th>\n",
       "      <td>50000</td>\n",
       "      <td>1</td>\n",
       "      <td>2</td>\n",
       "      <td>2</td>\n",
       "      <td>23</td>\n",
       "      <td>0</td>\n",
       "      <td>0</td>\n",
       "      <td>0</td>\n",
       "      <td>-1</td>\n",
       "      <td>0</td>\n",
       "      <td>...</td>\n",
       "      <td>49724</td>\n",
       "      <td>48437</td>\n",
       "      <td>18712</td>\n",
       "      <td>19129</td>\n",
       "      <td>4175</td>\n",
       "      <td>41000</td>\n",
       "      <td>51705</td>\n",
       "      <td>700</td>\n",
       "      <td>718</td>\n",
       "      <td>700</td>\n",
       "    </tr>\n",
       "    <tr>\n",
       "      <th>4</th>\n",
       "      <td>20000</td>\n",
       "      <td>1</td>\n",
       "      <td>2</td>\n",
       "      <td>1</td>\n",
       "      <td>47</td>\n",
       "      <td>-1</td>\n",
       "      <td>-1</td>\n",
       "      <td>-1</td>\n",
       "      <td>-2</td>\n",
       "      <td>-2</td>\n",
       "      <td>...</td>\n",
       "      <td>0</td>\n",
       "      <td>0</td>\n",
       "      <td>0</td>\n",
       "      <td>0</td>\n",
       "      <td>780</td>\n",
       "      <td>0</td>\n",
       "      <td>0</td>\n",
       "      <td>0</td>\n",
       "      <td>0</td>\n",
       "      <td>0</td>\n",
       "    </tr>\n",
       "    <tr>\n",
       "      <th>...</th>\n",
       "      <td>...</td>\n",
       "      <td>...</td>\n",
       "      <td>...</td>\n",
       "      <td>...</td>\n",
       "      <td>...</td>\n",
       "      <td>...</td>\n",
       "      <td>...</td>\n",
       "      <td>...</td>\n",
       "      <td>...</td>\n",
       "      <td>...</td>\n",
       "      <td>...</td>\n",
       "      <td>...</td>\n",
       "      <td>...</td>\n",
       "      <td>...</td>\n",
       "      <td>...</td>\n",
       "      <td>...</td>\n",
       "      <td>...</td>\n",
       "      <td>...</td>\n",
       "      <td>...</td>\n",
       "      <td>...</td>\n",
       "      <td>...</td>\n",
       "    </tr>\n",
       "    <tr>\n",
       "      <th>22495</th>\n",
       "      <td>50000</td>\n",
       "      <td>2</td>\n",
       "      <td>2</td>\n",
       "      <td>1</td>\n",
       "      <td>50</td>\n",
       "      <td>0</td>\n",
       "      <td>0</td>\n",
       "      <td>0</td>\n",
       "      <td>0</td>\n",
       "      <td>0</td>\n",
       "      <td>...</td>\n",
       "      <td>20691</td>\n",
       "      <td>17081</td>\n",
       "      <td>16234</td>\n",
       "      <td>16330</td>\n",
       "      <td>2000</td>\n",
       "      <td>1306</td>\n",
       "      <td>1206</td>\n",
       "      <td>1000</td>\n",
       "      <td>697</td>\n",
       "      <td>532</td>\n",
       "    </tr>\n",
       "    <tr>\n",
       "      <th>22496</th>\n",
       "      <td>80000</td>\n",
       "      <td>2</td>\n",
       "      <td>2</td>\n",
       "      <td>1</td>\n",
       "      <td>53</td>\n",
       "      <td>0</td>\n",
       "      <td>0</td>\n",
       "      <td>0</td>\n",
       "      <td>0</td>\n",
       "      <td>0</td>\n",
       "      <td>...</td>\n",
       "      <td>20475</td>\n",
       "      <td>20325</td>\n",
       "      <td>20276</td>\n",
       "      <td>20662</td>\n",
       "      <td>2530</td>\n",
       "      <td>3990</td>\n",
       "      <td>850</td>\n",
       "      <td>800</td>\n",
       "      <td>1100</td>\n",
       "      <td>1100</td>\n",
       "    </tr>\n",
       "    <tr>\n",
       "      <th>22497</th>\n",
       "      <td>50000</td>\n",
       "      <td>2</td>\n",
       "      <td>2</td>\n",
       "      <td>1</td>\n",
       "      <td>50</td>\n",
       "      <td>0</td>\n",
       "      <td>0</td>\n",
       "      <td>0</td>\n",
       "      <td>0</td>\n",
       "      <td>0</td>\n",
       "      <td>...</td>\n",
       "      <td>48999</td>\n",
       "      <td>49388</td>\n",
       "      <td>48853</td>\n",
       "      <td>47765</td>\n",
       "      <td>2070</td>\n",
       "      <td>2357</td>\n",
       "      <td>1746</td>\n",
       "      <td>1628</td>\n",
       "      <td>1520</td>\n",
       "      <td>2202</td>\n",
       "    </tr>\n",
       "    <tr>\n",
       "      <th>22498</th>\n",
       "      <td>220000</td>\n",
       "      <td>1</td>\n",
       "      <td>2</td>\n",
       "      <td>1</td>\n",
       "      <td>32</td>\n",
       "      <td>0</td>\n",
       "      <td>0</td>\n",
       "      <td>0</td>\n",
       "      <td>0</td>\n",
       "      <td>0</td>\n",
       "      <td>...</td>\n",
       "      <td>105226</td>\n",
       "      <td>107476</td>\n",
       "      <td>109746</td>\n",
       "      <td>111920</td>\n",
       "      <td>3746</td>\n",
       "      <td>3820</td>\n",
       "      <td>4000</td>\n",
       "      <td>4000</td>\n",
       "      <td>4000</td>\n",
       "      <td>4500</td>\n",
       "    </tr>\n",
       "    <tr>\n",
       "      <th>22499</th>\n",
       "      <td>130000</td>\n",
       "      <td>1</td>\n",
       "      <td>1</td>\n",
       "      <td>1</td>\n",
       "      <td>39</td>\n",
       "      <td>2</td>\n",
       "      <td>-1</td>\n",
       "      <td>-1</td>\n",
       "      <td>-1</td>\n",
       "      <td>-1</td>\n",
       "      <td>...</td>\n",
       "      <td>390</td>\n",
       "      <td>1068</td>\n",
       "      <td>3169</td>\n",
       "      <td>390</td>\n",
       "      <td>390</td>\n",
       "      <td>390</td>\n",
       "      <td>1068</td>\n",
       "      <td>3169</td>\n",
       "      <td>390</td>\n",
       "      <td>390</td>\n",
       "    </tr>\n",
       "  </tbody>\n",
       "</table>\n",
       "<p>22500 rows × 23 columns</p>\n",
       "</div>"
      ],
      "text/plain": [
       "       LIMIT_BAL  SEX  EDUCATION  MARRIAGE  AGE  PAY_0  PAY_2  PAY_3  PAY_4  \\\n",
       "0         200000    2          3         1   30      2      2      2      2   \n",
       "1         200000    2          4         2   27     -2     -2     -2     -2   \n",
       "2          20000    2          2         2   28      0      0      2      0   \n",
       "3          50000    1          2         2   23      0      0      0     -1   \n",
       "4          20000    1          2         1   47     -1     -1     -1     -2   \n",
       "...          ...  ...        ...       ...  ...    ...    ...    ...    ...   \n",
       "22495      50000    2          2         1   50      0      0      0      0   \n",
       "22496      80000    2          2         1   53      0      0      0      0   \n",
       "22497      50000    2          2         1   50      0      0      0      0   \n",
       "22498     220000    1          2         1   32      0      0      0      0   \n",
       "22499     130000    1          1         1   39      2     -1     -1     -1   \n",
       "\n",
       "       PAY_5  ...  BILL_AMT3  BILL_AMT4  BILL_AMT5  BILL_AMT6  PAY_AMT1  \\\n",
       "0          2  ...     145374     147273     149244     151973      6600   \n",
       "1         -2  ...          0          0          0          0         0   \n",
       "2          0  ...       4144       8168       6894      11424      3353   \n",
       "3          0  ...      49724      48437      18712      19129      4175   \n",
       "4         -2  ...          0          0          0          0       780   \n",
       "...      ...  ...        ...        ...        ...        ...       ...   \n",
       "22495      0  ...      20691      17081      16234      16330      2000   \n",
       "22496      0  ...      20475      20325      20276      20662      2530   \n",
       "22497      0  ...      48999      49388      48853      47765      2070   \n",
       "22498      0  ...     105226     107476     109746     111920      3746   \n",
       "22499     -1  ...        390       1068       3169        390       390   \n",
       "\n",
       "       PAY_AMT2  PAY_AMT3  PAY_AMT4  PAY_AMT5  PAY_AMT6  \n",
       "0          6000      5860      6000      5000         0  \n",
       "1             0         0         0         0         0  \n",
       "2             3      5101         6      6530      8103  \n",
       "3         41000     51705       700       718       700  \n",
       "4             0         0         0         0         0  \n",
       "...         ...       ...       ...       ...       ...  \n",
       "22495      1306      1206      1000       697       532  \n",
       "22496      3990       850       800      1100      1100  \n",
       "22497      2357      1746      1628      1520      2202  \n",
       "22498      3820      4000      4000      4000      4500  \n",
       "22499       390      1068      3169       390       390  \n",
       "\n",
       "[22500 rows x 23 columns]"
      ]
     },
     "execution_count": 162,
     "metadata": {},
     "output_type": "execute_result"
    }
   ],
   "source": [
    "x"
   ]
  },
  {
   "cell_type": "code",
   "execution_count": 163,
   "metadata": {},
   "outputs": [],
   "source": [
    "#replace all 0,5,6 with 4(others) on EDUCATION column\n",
    "x['EDUCATION'] = x['EDUCATION'].replace({5:4, 0:4, 6:4})"
   ]
  },
  {
   "cell_type": "code",
   "execution_count": 164,
   "metadata": {
    "scrolled": false
   },
   "outputs": [
    {
     "data": {
      "text/plain": [
       "2    10546\n",
       "1     7921\n",
       "3     3690\n",
       "4      343\n",
       "Name: EDUCATION, dtype: int64"
      ]
     },
     "execution_count": 164,
     "metadata": {},
     "output_type": "execute_result"
    }
   ],
   "source": [
    "x['EDUCATION'].value_counts()"
   ]
  },
  {
   "cell_type": "code",
   "execution_count": 165,
   "metadata": {},
   "outputs": [],
   "source": [
    "#replace all 0 with 3(others) on MARRIAGE column\n",
    "x['MARRIAGE'] = x['MARRIAGE'].replace({0:3})"
   ]
  },
  {
   "cell_type": "code",
   "execution_count": 166,
   "metadata": {},
   "outputs": [
    {
     "data": {
      "text/plain": [
       "2    11942\n",
       "1    10281\n",
       "3      277\n",
       "Name: MARRIAGE, dtype: int64"
      ]
     },
     "execution_count": 166,
     "metadata": {},
     "output_type": "execute_result"
    }
   ],
   "source": [
    "x['MARRIAGE'].value_counts()"
   ]
  },
  {
   "cell_type": "code",
   "execution_count": 167,
   "metadata": {},
   "outputs": [],
   "source": [
    "##make female 0\n",
    "x['SEX'] = x['SEX'].replace({2:0})"
   ]
  },
  {
   "cell_type": "code",
   "execution_count": 168,
   "metadata": {},
   "outputs": [
    {
     "data": {
      "text/plain": [
       "Index(['LIMIT_BAL', 'SEX', 'EDUCATION', 'MARRIAGE', 'AGE', 'PAY_0', 'PAY_2',\n",
       "       'PAY_3', 'PAY_4', 'PAY_5', 'PAY_6', 'BILL_AMT1', 'BILL_AMT2',\n",
       "       'BILL_AMT3', 'BILL_AMT4', 'BILL_AMT5', 'BILL_AMT6', 'PAY_AMT1',\n",
       "       'PAY_AMT2', 'PAY_AMT3', 'PAY_AMT4', 'PAY_AMT5', 'PAY_AMT6'],\n",
       "      dtype='object')"
      ]
     },
     "execution_count": 168,
     "metadata": {},
     "output_type": "execute_result"
    }
   ],
   "source": [
    "x.columns"
   ]
  },
  {
   "cell_type": "code",
   "execution_count": 169,
   "metadata": {},
   "outputs": [],
   "source": [
    "#mapping the data, 1 for danger late level and 0 for still okay level\n",
    "\n",
    "x['PAY_0'] = np.where(x['PAY_0'].values > 2, 1,0)\n",
    "x['PAY_2'] = np.where(x['PAY_2'].values > 2, 1,0)\n",
    "x['PAY_3'] = np.where(x['PAY_3'].values > 2, 1,0)\n",
    "x['PAY_4'] = np.where(x['PAY_4'].values > 2, 1,0)\n",
    "x['PAY_5'] = np.where(x['PAY_5'].values > 2, 1,0)\n",
    "x['PAY_6'] = np.where(x['PAY_6'].values > 2, 1,0)"
   ]
  },
  {
   "cell_type": "code",
   "execution_count": 170,
   "metadata": {
    "scrolled": true
   },
   "outputs": [
    {
     "data": {
      "text/plain": [
       "1      233\n",
       "0    22267\n",
       "Name: PAY_6, dtype: int64"
      ]
     },
     "execution_count": 170,
     "metadata": {},
     "output_type": "execute_result"
    }
   ],
   "source": [
    "x['PAY_6'].value_counts().sort_values()"
   ]
  },
  {
   "cell_type": "code",
   "execution_count": 171,
   "metadata": {},
   "outputs": [
    {
     "data": {
      "text/html": [
       "<div>\n",
       "<style scoped>\n",
       "    .dataframe tbody tr th:only-of-type {\n",
       "        vertical-align: middle;\n",
       "    }\n",
       "\n",
       "    .dataframe tbody tr th {\n",
       "        vertical-align: top;\n",
       "    }\n",
       "\n",
       "    .dataframe thead th {\n",
       "        text-align: right;\n",
       "    }\n",
       "</style>\n",
       "<table border=\"1\" class=\"dataframe\">\n",
       "  <thead>\n",
       "    <tr style=\"text-align: right;\">\n",
       "      <th></th>\n",
       "      <th>PAY_0</th>\n",
       "      <th>PAY_2</th>\n",
       "      <th>PAY_3</th>\n",
       "      <th>PAY_4</th>\n",
       "      <th>PAY_5</th>\n",
       "      <th>PAY_6</th>\n",
       "    </tr>\n",
       "  </thead>\n",
       "  <tbody>\n",
       "    <tr>\n",
       "      <th>0</th>\n",
       "      <td>0</td>\n",
       "      <td>0</td>\n",
       "      <td>0</td>\n",
       "      <td>0</td>\n",
       "      <td>0</td>\n",
       "      <td>0</td>\n",
       "    </tr>\n",
       "    <tr>\n",
       "      <th>1</th>\n",
       "      <td>0</td>\n",
       "      <td>0</td>\n",
       "      <td>0</td>\n",
       "      <td>0</td>\n",
       "      <td>0</td>\n",
       "      <td>0</td>\n",
       "    </tr>\n",
       "    <tr>\n",
       "      <th>2</th>\n",
       "      <td>0</td>\n",
       "      <td>0</td>\n",
       "      <td>0</td>\n",
       "      <td>0</td>\n",
       "      <td>0</td>\n",
       "      <td>0</td>\n",
       "    </tr>\n",
       "    <tr>\n",
       "      <th>3</th>\n",
       "      <td>0</td>\n",
       "      <td>0</td>\n",
       "      <td>0</td>\n",
       "      <td>0</td>\n",
       "      <td>0</td>\n",
       "      <td>0</td>\n",
       "    </tr>\n",
       "    <tr>\n",
       "      <th>4</th>\n",
       "      <td>0</td>\n",
       "      <td>0</td>\n",
       "      <td>0</td>\n",
       "      <td>0</td>\n",
       "      <td>0</td>\n",
       "      <td>0</td>\n",
       "    </tr>\n",
       "    <tr>\n",
       "      <th>...</th>\n",
       "      <td>...</td>\n",
       "      <td>...</td>\n",
       "      <td>...</td>\n",
       "      <td>...</td>\n",
       "      <td>...</td>\n",
       "      <td>...</td>\n",
       "    </tr>\n",
       "    <tr>\n",
       "      <th>22495</th>\n",
       "      <td>0</td>\n",
       "      <td>0</td>\n",
       "      <td>0</td>\n",
       "      <td>0</td>\n",
       "      <td>0</td>\n",
       "      <td>0</td>\n",
       "    </tr>\n",
       "    <tr>\n",
       "      <th>22496</th>\n",
       "      <td>0</td>\n",
       "      <td>0</td>\n",
       "      <td>0</td>\n",
       "      <td>0</td>\n",
       "      <td>0</td>\n",
       "      <td>0</td>\n",
       "    </tr>\n",
       "    <tr>\n",
       "      <th>22497</th>\n",
       "      <td>0</td>\n",
       "      <td>0</td>\n",
       "      <td>0</td>\n",
       "      <td>0</td>\n",
       "      <td>0</td>\n",
       "      <td>0</td>\n",
       "    </tr>\n",
       "    <tr>\n",
       "      <th>22498</th>\n",
       "      <td>0</td>\n",
       "      <td>0</td>\n",
       "      <td>0</td>\n",
       "      <td>0</td>\n",
       "      <td>0</td>\n",
       "      <td>0</td>\n",
       "    </tr>\n",
       "    <tr>\n",
       "      <th>22499</th>\n",
       "      <td>0</td>\n",
       "      <td>0</td>\n",
       "      <td>0</td>\n",
       "      <td>0</td>\n",
       "      <td>0</td>\n",
       "      <td>0</td>\n",
       "    </tr>\n",
       "  </tbody>\n",
       "</table>\n",
       "<p>22500 rows × 6 columns</p>\n",
       "</div>"
      ],
      "text/plain": [
       "       PAY_0  PAY_2  PAY_3  PAY_4  PAY_5  PAY_6\n",
       "0          0      0      0      0      0      0\n",
       "1          0      0      0      0      0      0\n",
       "2          0      0      0      0      0      0\n",
       "3          0      0      0      0      0      0\n",
       "4          0      0      0      0      0      0\n",
       "...      ...    ...    ...    ...    ...    ...\n",
       "22495      0      0      0      0      0      0\n",
       "22496      0      0      0      0      0      0\n",
       "22497      0      0      0      0      0      0\n",
       "22498      0      0      0      0      0      0\n",
       "22499      0      0      0      0      0      0\n",
       "\n",
       "[22500 rows x 6 columns]"
      ]
     },
     "execution_count": 171,
     "metadata": {},
     "output_type": "execute_result"
    }
   ],
   "source": [
    "x[['PAY_0','PAY_2','PAY_3','PAY_4','PAY_5','PAY_6',]]"
   ]
  },
  {
   "cell_type": "code",
   "execution_count": 172,
   "metadata": {},
   "outputs": [],
   "source": [
    "#amt_late represents the amount of times you were in the danger late level across the months\n",
    "x['amt_late'] = x['PAY_0'] + x['PAY_2'] + x['PAY_3'] + x['PAY_4'] + x['PAY_5'] + x['PAY_6']"
   ]
  },
  {
   "cell_type": "code",
   "execution_count": 173,
   "metadata": {},
   "outputs": [],
   "source": [
    "x['FULL_1'] = x['BILL_AMT1'] - x['PAY_AMT1']\n",
    "x['FULL_2'] = x['BILL_AMT2'] - x['PAY_AMT2']\n",
    "x['FULL_3'] = x['BILL_AMT3'] - x['PAY_AMT3']\n",
    "x['FULL_4'] = x['BILL_AMT4'] - x['PAY_AMT4']\n",
    "x['FULL_5'] = x['BILL_AMT5'] - x['PAY_AMT5']\n",
    "x['FULL_6'] = x['BILL_AMT6'] - x['PAY_AMT6']"
   ]
  },
  {
   "cell_type": "code",
   "execution_count": 174,
   "metadata": {},
   "outputs": [
    {
     "data": {
      "text/html": [
       "<div>\n",
       "<style scoped>\n",
       "    .dataframe tbody tr th:only-of-type {\n",
       "        vertical-align: middle;\n",
       "    }\n",
       "\n",
       "    .dataframe tbody tr th {\n",
       "        vertical-align: top;\n",
       "    }\n",
       "\n",
       "    .dataframe thead th {\n",
       "        text-align: right;\n",
       "    }\n",
       "</style>\n",
       "<table border=\"1\" class=\"dataframe\">\n",
       "  <thead>\n",
       "    <tr style=\"text-align: right;\">\n",
       "      <th></th>\n",
       "      <th>FULL_1</th>\n",
       "      <th>FULL_2</th>\n",
       "      <th>FULL_3</th>\n",
       "      <th>FULL_4</th>\n",
       "      <th>FULL_5</th>\n",
       "      <th>FULL_6</th>\n",
       "    </tr>\n",
       "  </thead>\n",
       "  <tbody>\n",
       "    <tr>\n",
       "      <th>0</th>\n",
       "      <td>133727</td>\n",
       "      <td>137137</td>\n",
       "      <td>139514</td>\n",
       "      <td>141273</td>\n",
       "      <td>144244</td>\n",
       "      <td>151973</td>\n",
       "    </tr>\n",
       "    <tr>\n",
       "      <th>1</th>\n",
       "      <td>0</td>\n",
       "      <td>0</td>\n",
       "      <td>0</td>\n",
       "      <td>0</td>\n",
       "      <td>0</td>\n",
       "      <td>0</td>\n",
       "    </tr>\n",
       "    <tr>\n",
       "      <th>2</th>\n",
       "      <td>-416</td>\n",
       "      <td>5693</td>\n",
       "      <td>-957</td>\n",
       "      <td>8162</td>\n",
       "      <td>364</td>\n",
       "      <td>3321</td>\n",
       "    </tr>\n",
       "    <tr>\n",
       "      <th>3</th>\n",
       "      <td>47099</td>\n",
       "      <td>9474</td>\n",
       "      <td>-1981</td>\n",
       "      <td>47737</td>\n",
       "      <td>17994</td>\n",
       "      <td>18429</td>\n",
       "    </tr>\n",
       "    <tr>\n",
       "      <th>4</th>\n",
       "      <td>-390</td>\n",
       "      <td>780</td>\n",
       "      <td>0</td>\n",
       "      <td>0</td>\n",
       "      <td>0</td>\n",
       "      <td>0</td>\n",
       "    </tr>\n",
       "    <tr>\n",
       "      <th>...</th>\n",
       "      <td>...</td>\n",
       "      <td>...</td>\n",
       "      <td>...</td>\n",
       "      <td>...</td>\n",
       "      <td>...</td>\n",
       "      <td>...</td>\n",
       "    </tr>\n",
       "    <tr>\n",
       "      <th>22495</th>\n",
       "      <td>19956</td>\n",
       "      <td>19133</td>\n",
       "      <td>19485</td>\n",
       "      <td>16081</td>\n",
       "      <td>15537</td>\n",
       "      <td>15798</td>\n",
       "    </tr>\n",
       "    <tr>\n",
       "      <th>22496</th>\n",
       "      <td>46158</td>\n",
       "      <td>97888</td>\n",
       "      <td>19625</td>\n",
       "      <td>19525</td>\n",
       "      <td>19176</td>\n",
       "      <td>19562</td>\n",
       "    </tr>\n",
       "    <tr>\n",
       "      <th>22497</th>\n",
       "      <td>49142</td>\n",
       "      <td>48301</td>\n",
       "      <td>47253</td>\n",
       "      <td>47760</td>\n",
       "      <td>47333</td>\n",
       "      <td>45563</td>\n",
       "    </tr>\n",
       "    <tr>\n",
       "      <th>22498</th>\n",
       "      <td>198264</td>\n",
       "      <td>99304</td>\n",
       "      <td>101226</td>\n",
       "      <td>103476</td>\n",
       "      <td>105746</td>\n",
       "      <td>107420</td>\n",
       "    </tr>\n",
       "    <tr>\n",
       "      <th>22499</th>\n",
       "      <td>0</td>\n",
       "      <td>0</td>\n",
       "      <td>-678</td>\n",
       "      <td>-2101</td>\n",
       "      <td>2779</td>\n",
       "      <td>0</td>\n",
       "    </tr>\n",
       "  </tbody>\n",
       "</table>\n",
       "<p>22500 rows × 6 columns</p>\n",
       "</div>"
      ],
      "text/plain": [
       "       FULL_1  FULL_2  FULL_3  FULL_4  FULL_5  FULL_6\n",
       "0      133727  137137  139514  141273  144244  151973\n",
       "1           0       0       0       0       0       0\n",
       "2        -416    5693    -957    8162     364    3321\n",
       "3       47099    9474   -1981   47737   17994   18429\n",
       "4        -390     780       0       0       0       0\n",
       "...       ...     ...     ...     ...     ...     ...\n",
       "22495   19956   19133   19485   16081   15537   15798\n",
       "22496   46158   97888   19625   19525   19176   19562\n",
       "22497   49142   48301   47253   47760   47333   45563\n",
       "22498  198264   99304  101226  103476  105746  107420\n",
       "22499       0       0    -678   -2101    2779       0\n",
       "\n",
       "[22500 rows x 6 columns]"
      ]
     },
     "execution_count": 174,
     "metadata": {},
     "output_type": "execute_result"
    }
   ],
   "source": [
    "x[['FULL_1','FULL_2','FULL_3','FULL_4','FULL_5','FULL_6',]]"
   ]
  },
  {
   "cell_type": "code",
   "execution_count": 175,
   "metadata": {},
   "outputs": [],
   "source": [
    "#mapping the data, 1 for not paid in full  and 0 for paid in full or more\n",
    "\n",
    "x['FULL_1'] = np.where(x['FULL_1'].values > 0, 1,0)\n",
    "x['FULL_2'] = np.where(x['FULL_2'].values > 0, 1,0)\n",
    "x['FULL_3'] = np.where(x['FULL_3'].values > 0, 1,0)\n",
    "x['FULL_4'] = np.where(x['FULL_4'].values > 0, 1,0)\n",
    "x['FULL_5'] = np.where(x['FULL_5'].values > 0, 1,0)\n",
    "x['FULL_6'] = np.where(x['FULL_6'].values > 0, 1,0)"
   ]
  },
  {
   "cell_type": "code",
   "execution_count": 176,
   "metadata": {
    "scrolled": true
   },
   "outputs": [
    {
     "data": {
      "text/html": [
       "<div>\n",
       "<style scoped>\n",
       "    .dataframe tbody tr th:only-of-type {\n",
       "        vertical-align: middle;\n",
       "    }\n",
       "\n",
       "    .dataframe tbody tr th {\n",
       "        vertical-align: top;\n",
       "    }\n",
       "\n",
       "    .dataframe thead th {\n",
       "        text-align: right;\n",
       "    }\n",
       "</style>\n",
       "<table border=\"1\" class=\"dataframe\">\n",
       "  <thead>\n",
       "    <tr style=\"text-align: right;\">\n",
       "      <th></th>\n",
       "      <th>FULL_1</th>\n",
       "      <th>FULL_2</th>\n",
       "      <th>FULL_3</th>\n",
       "      <th>FULL_4</th>\n",
       "      <th>FULL_5</th>\n",
       "      <th>FULL_6</th>\n",
       "    </tr>\n",
       "  </thead>\n",
       "  <tbody>\n",
       "    <tr>\n",
       "      <th>0</th>\n",
       "      <td>1</td>\n",
       "      <td>1</td>\n",
       "      <td>1</td>\n",
       "      <td>1</td>\n",
       "      <td>1</td>\n",
       "      <td>1</td>\n",
       "    </tr>\n",
       "    <tr>\n",
       "      <th>1</th>\n",
       "      <td>0</td>\n",
       "      <td>0</td>\n",
       "      <td>0</td>\n",
       "      <td>0</td>\n",
       "      <td>0</td>\n",
       "      <td>0</td>\n",
       "    </tr>\n",
       "    <tr>\n",
       "      <th>2</th>\n",
       "      <td>0</td>\n",
       "      <td>1</td>\n",
       "      <td>0</td>\n",
       "      <td>1</td>\n",
       "      <td>1</td>\n",
       "      <td>1</td>\n",
       "    </tr>\n",
       "    <tr>\n",
       "      <th>3</th>\n",
       "      <td>1</td>\n",
       "      <td>1</td>\n",
       "      <td>0</td>\n",
       "      <td>1</td>\n",
       "      <td>1</td>\n",
       "      <td>1</td>\n",
       "    </tr>\n",
       "    <tr>\n",
       "      <th>4</th>\n",
       "      <td>0</td>\n",
       "      <td>1</td>\n",
       "      <td>0</td>\n",
       "      <td>0</td>\n",
       "      <td>0</td>\n",
       "      <td>0</td>\n",
       "    </tr>\n",
       "    <tr>\n",
       "      <th>...</th>\n",
       "      <td>...</td>\n",
       "      <td>...</td>\n",
       "      <td>...</td>\n",
       "      <td>...</td>\n",
       "      <td>...</td>\n",
       "      <td>...</td>\n",
       "    </tr>\n",
       "    <tr>\n",
       "      <th>22495</th>\n",
       "      <td>1</td>\n",
       "      <td>1</td>\n",
       "      <td>1</td>\n",
       "      <td>1</td>\n",
       "      <td>1</td>\n",
       "      <td>1</td>\n",
       "    </tr>\n",
       "    <tr>\n",
       "      <th>22496</th>\n",
       "      <td>1</td>\n",
       "      <td>1</td>\n",
       "      <td>1</td>\n",
       "      <td>1</td>\n",
       "      <td>1</td>\n",
       "      <td>1</td>\n",
       "    </tr>\n",
       "    <tr>\n",
       "      <th>22497</th>\n",
       "      <td>1</td>\n",
       "      <td>1</td>\n",
       "      <td>1</td>\n",
       "      <td>1</td>\n",
       "      <td>1</td>\n",
       "      <td>1</td>\n",
       "    </tr>\n",
       "    <tr>\n",
       "      <th>22498</th>\n",
       "      <td>1</td>\n",
       "      <td>1</td>\n",
       "      <td>1</td>\n",
       "      <td>1</td>\n",
       "      <td>1</td>\n",
       "      <td>1</td>\n",
       "    </tr>\n",
       "    <tr>\n",
       "      <th>22499</th>\n",
       "      <td>0</td>\n",
       "      <td>0</td>\n",
       "      <td>0</td>\n",
       "      <td>0</td>\n",
       "      <td>1</td>\n",
       "      <td>0</td>\n",
       "    </tr>\n",
       "  </tbody>\n",
       "</table>\n",
       "<p>22500 rows × 6 columns</p>\n",
       "</div>"
      ],
      "text/plain": [
       "       FULL_1  FULL_2  FULL_3  FULL_4  FULL_5  FULL_6\n",
       "0           1       1       1       1       1       1\n",
       "1           0       0       0       0       0       0\n",
       "2           0       1       0       1       1       1\n",
       "3           1       1       0       1       1       1\n",
       "4           0       1       0       0       0       0\n",
       "...       ...     ...     ...     ...     ...     ...\n",
       "22495       1       1       1       1       1       1\n",
       "22496       1       1       1       1       1       1\n",
       "22497       1       1       1       1       1       1\n",
       "22498       1       1       1       1       1       1\n",
       "22499       0       0       0       0       1       0\n",
       "\n",
       "[22500 rows x 6 columns]"
      ]
     },
     "execution_count": 176,
     "metadata": {},
     "output_type": "execute_result"
    }
   ],
   "source": [
    "x[['FULL_1','FULL_2','FULL_3','FULL_4','FULL_5','FULL_6',]]"
   ]
  },
  {
   "cell_type": "code",
   "execution_count": 177,
   "metadata": {},
   "outputs": [],
   "source": [
    "x['PEND'] = x['FULL_1'] + x['FULL_2'] + x['FULL_3'] + x['FULL_4'] + x['FULL_5'] + x['FULL_6']"
   ]
  },
  {
   "cell_type": "code",
   "execution_count": 178,
   "metadata": {},
   "outputs": [],
   "source": [
    "continuous = ['LIMIT_BAL', 'AGE', 'amt_late', 'PEND']\n",
    "categorical = ['SEX', 'EDUCATION', 'MARRIAGE']"
   ]
  },
  {
   "cell_type": "code",
   "execution_count": 179,
   "metadata": {},
   "outputs": [],
   "source": [
    "#dummies for categoricals\n",
    "edu_dummies = pd.get_dummies(x['EDUCATION'], prefix='edu', drop_first=True)\n",
    "mar_dummies = pd.get_dummies(x['MARRIAGE'], prefix='mar', drop_first=True)"
   ]
  },
  {
   "cell_type": "code",
   "execution_count": 180,
   "metadata": {},
   "outputs": [],
   "source": [
    "x_cat = pd.concat([x[['SEX']], edu_dummies, mar_dummies], axis=1)"
   ]
  },
  {
   "cell_type": "code",
   "execution_count": 181,
   "metadata": {},
   "outputs": [],
   "source": [
    "x_cont = x[continuous]"
   ]
  },
  {
   "cell_type": "code",
   "execution_count": 182,
   "metadata": {},
   "outputs": [],
   "source": [
    "from sklearn.preprocessing import StandardScaler\n",
    "\n",
    "# Scale the cont train data\n",
    "ss = StandardScaler()\n",
    "x_cont = ss.fit_transform(x_cont)\n",
    "x_cont = pd.DataFrame(x_cont)\n",
    "x_cont.columns = continuous"
   ]
  },
  {
   "cell_type": "code",
   "execution_count": 183,
   "metadata": {},
   "outputs": [],
   "source": [
    "X_train_all = pd.concat([x_cont, x_cat], axis=1)"
   ]
  },
  {
   "cell_type": "markdown",
   "metadata": {},
   "source": [
    "Model time!!!"
   ]
  },
  {
   "cell_type": "code",
   "execution_count": 184,
   "metadata": {},
   "outputs": [],
   "source": [
    "X = X_train_all"
   ]
  },
  {
   "cell_type": "code",
   "execution_count": 185,
   "metadata": {},
   "outputs": [],
   "source": [
    "X_train, X_test, y_train, y_test = train_test_split(X,y,random_state=10)"
   ]
  },
  {
   "cell_type": "code",
   "execution_count": 201,
   "metadata": {},
   "outputs": [
    {
     "data": {
      "text/plain": [
       "LogisticRegression(C=1000000000000.0, class_weight='balanced', dual=False,\n",
       "                   fit_intercept=False, intercept_scaling=1, l1_ratio=None,\n",
       "                   max_iter=100, multi_class='auto', n_jobs=None, penalty='l1',\n",
       "                   random_state=None, solver='saga', tol=0.0001, verbose=0,\n",
       "                   warm_start=False)"
      ]
     },
     "execution_count": 201,
     "metadata": {},
     "output_type": "execute_result"
    }
   ],
   "source": [
    "# Instantiate LogisticRegression\n",
    "logreg = LogisticRegression(penalty='l1', fit_intercept=False, C=1e12, solver='saga', class_weight='balanced')\n",
    "\n",
    "# Fit to training data\n",
    "model_log = logreg.fit(X_train, y_train)\n",
    "model_log"
   ]
  },
  {
   "cell_type": "code",
   "execution_count": 202,
   "metadata": {},
   "outputs": [],
   "source": [
    "y_hat_train = logreg.predict(X_train)\n",
    "y_hat_test = logreg.predict(X_test)"
   ]
  },
  {
   "cell_type": "code",
   "execution_count": 203,
   "metadata": {},
   "outputs": [
    {
     "name": "stdout",
     "output_type": "stream",
     "text": [
      "Training Precision:  0.2960592369477912\n",
      "Testing Precision:  0.29073724007561436\n",
      "\n",
      "\n",
      "\n",
      "Training Recall:  0.6329487523477327\n",
      "Testing Recall:  0.6152\n",
      "\n",
      "\n",
      "\n",
      "Training Accuracy:  0.5865481481481482\n",
      "Testing Accuracy:  0.5809777777777778\n",
      "\n",
      "\n",
      "\n",
      "Training F1-Score:  0.403420265070543\n",
      "Testing F1-Score:  0.39486521181001283\n"
     ]
    }
   ],
   "source": [
    "from sklearn.metrics import precision_score, recall_score, accuracy_score, f1_score\n",
    "\n",
    "print('Training Precision: ', precision_score(y_train, y_hat_train))\n",
    "print('Testing Precision: ', precision_score(y_test, y_hat_test))\n",
    "print('\\n\\n')\n",
    "\n",
    "print('Training Recall: ', recall_score(y_train, y_hat_train))\n",
    "print('Testing Recall: ', recall_score(y_test, y_hat_test))\n",
    "print('\\n\\n')\n",
    "\n",
    "print('Training Accuracy: ', accuracy_score(y_train, y_hat_train))\n",
    "print('Testing Accuracy: ', accuracy_score(y_test, y_hat_test))\n",
    "print('\\n\\n')\n",
    "\n",
    "print('Training F1-Score: ', f1_score(y_train, y_hat_train))\n",
    "print('Testing F1-Score: ', f1_score(y_test, y_hat_test))"
   ]
  },
  {
   "cell_type": "code",
   "execution_count": 204,
   "metadata": {},
   "outputs": [
    {
     "name": "stdout",
     "output_type": "stream",
     "text": [
      "Confusion Matrix:\n",
      " [[2499 1876]\n",
      " [ 481  769]]\n"
     ]
    }
   ],
   "source": [
    "# Import confusion_matrix\n",
    "from sklearn.metrics import confusion_matrix\n",
    "\n",
    "# Print confusion matrix\n",
    "cnf_matrix = confusion_matrix(y_test, y_hat_test)\n",
    "print('Confusion Matrix:\\n', cnf_matrix)"
   ]
  },
  {
   "cell_type": "code",
   "execution_count": 205,
   "metadata": {},
   "outputs": [
    {
     "data": {
      "image/png": "[encoded data removed]",
      "text/plain": [
       "<Figure size 432x288 with 2 Axes>"
      ]
     },
     "metadata": {
      "needs_background": "light"
     },
     "output_type": "display_data"
    }
   ],
   "source": [
    "import numpy as np\n",
    "import itertools\n",
    "import matplotlib.pyplot as plt\n",
    "%matplotlib inline\n",
    "\n",
    "# Create the basic matrix\n",
    "plt.imshow(cnf_matrix,  cmap=plt.cm.Blues) \n",
    "\n",
    "# Add title and axis labels\n",
    "plt.title('Confusion Matrix')\n",
    "plt.ylabel('True label')\n",
    "plt.xlabel('Predicted label')\n",
    "\n",
    "# Add appropriate axis scales\n",
    "class_names = set(y) # Get class labels to add to matrix\n",
    "tick_marks = np.arange(len(class_names))\n",
    "plt.xticks(tick_marks, class_names, rotation=45)\n",
    "plt.yticks(tick_marks, class_names)\n",
    "\n",
    "# Add labels to each cell\n",
    "thresh = cnf_matrix.max() / 2. # Used for text coloring below\n",
    "# Here we iterate through the confusion matrix and append labels to our visualization \n",
    "for i, j in itertools.product(range(cnf_matrix.shape[0]), range(cnf_matrix.shape[1])):\n",
    "        plt.text(j, i, cnf_matrix[i, j],\n",
    "                 horizontalalignment='center',\n",
    "                 color='white' if cnf_matrix[i, j] > thresh else 'black')\n",
    "\n",
    "# Add a legend\n",
    "plt.colorbar()\n",
    "plt.show()"
   ]
  },
  {
   "cell_type": "code",
   "execution_count": 141,
   "metadata": {},
   "outputs": [],
   "source": [
    "from sklearn.ensemble import RandomForestClassifier\n",
    "rfc = RandomForestClassifier(random_state = 23, n_estimators=200)"
   ]
  },
  {
   "cell_type": "code",
   "execution_count": 192,
   "metadata": {},
   "outputs": [
    {
     "name": "stdout",
     "output_type": "stream",
     "text": [
      "Training Precision:  0.9160122908842608\n",
      "Testing Precision:  0.3801089918256131\n",
      "\n",
      "\n",
      "\n",
      "Training Recall:  0.7198819425811644\n",
      "Testing Recall:  0.2232\n",
      "\n",
      "\n",
      "\n",
      "Training Accuracy:  0.9235555555555556\n",
      "Testing Accuracy:  0.7464888888888889\n",
      "\n",
      "\n",
      "\n",
      "Training F1-Score:  0.8061899038461539\n",
      "Testing F1-Score:  0.28125\n"
     ]
    }
   ],
   "source": [
    "#fit the model to the training data\n",
    "rfc.fit(X_train, y_train)\n",
    "\n",
    "#use the fitted model to predict on the test data\n",
    "rfc_pred = rfc.predict(X_test)\n",
    "rfc_predA = rfc.predict(X_train)\n",
    "\n",
    "print('Training Precision: ', precision_score(y_train, rfc_predA))\n",
    "print('Testing Precision: ', precision_score(y_test, rfc_pred))\n",
    "print('\\n\\n')\n",
    "\n",
    "print('Training Recall: ', recall_score(y_train, rfc_predA))\n",
    "print('Testing Recall: ', recall_score(y_test, rfc_pred))\n",
    "print('\\n\\n')\n",
    "\n",
    "print('Training Accuracy: ', accuracy_score(y_train, rfc_predA))\n",
    "print('Testing Accuracy: ', accuracy_score(y_test, rfc_pred))\n",
    "print('\\n\\n')\n",
    "\n",
    "print('Training F1-Score: ', f1_score(y_train, rfc_predA))\n",
    "print('Testing F1-Score: ', f1_score(y_test, rfc_pred))"
   ]
  },
  {
   "cell_type": "code",
   "execution_count": null,
   "metadata": {},
   "outputs": [],
   "source": []
  },
  {
   "cell_type": "code",
   "execution_count": 196,
   "metadata": {},
   "outputs": [
    {
     "data": {
      "text/plain": [
       "KNeighborsClassifier(algorithm='auto', leaf_size=30, metric='minkowski',\n",
       "                     metric_params=None, n_jobs=None, n_neighbors=15, p=2,\n",
       "                     weights='uniform')"
      ]
     },
     "execution_count": 196,
     "metadata": {},
     "output_type": "execute_result"
    }
   ],
   "source": [
    "from sklearn.neighbors import KNeighborsClassifier\n",
    "knn = KNeighborsClassifier(n_neighbors=15)\n",
    "knn.fit(X_train, y_train)"
   ]
  },
  {
   "cell_type": "code",
   "execution_count": 198,
   "metadata": {},
   "outputs": [
    {
     "name": "stdout",
     "output_type": "stream",
     "text": [
      "Training Precision:  0.6445714285714286\n",
      "Testing Precision:  0.5520504731861199\n",
      "\n",
      "\n",
      "\n",
      "Training Recall:  0.15132814596189964\n",
      "Testing Recall:  0.14\n",
      "\n",
      "\n",
      "\n",
      "Training Accuracy:  0.7941333333333334\n",
      "Testing Accuracy:  0.7836444444444445\n",
      "\n",
      "\n",
      "\n",
      "Training F1-Score:  0.24511082138200782\n",
      "Testing F1-Score:  0.22335673261008296\n"
     ]
    }
   ],
   "source": [
    "\n",
    "#use the fitted model to predict on the test data\n",
    "knn_p = knn.predict(X_test)\n",
    "knn_t = knn.predict(X_train)\n",
    "\n",
    "print('Training Precision: ', precision_score(y_train, knn_t))\n",
    "print('Testing Precision: ', precision_score(y_test, knn_p))\n",
    "print('\\n\\n')\n",
    "\n",
    "print('Training Recall: ', recall_score(y_train, knn_t))\n",
    "print('Testing Recall: ', recall_score(y_test, knn_p))\n",
    "print('\\n\\n')\n",
    "\n",
    "print('Training Accuracy: ', accuracy_score(y_train, knn_t))\n",
    "print('Testing Accuracy: ', accuracy_score(y_test, knn_p))\n",
    "print('\\n\\n')\n",
    "\n",
    "print('Training F1-Score: ', f1_score(y_train, knn_t))\n",
    "print('Testing F1-Score: ', f1_score(y_test, knn_p))"
   ]
  },
  {
   "cell_type": "code",
   "execution_count": null,
   "metadata": {},
   "outputs": [],
   "source": []
  }
 ],
 "metadata": {
  "kernelspec": {
   "display_name": "Python 3",
   "language": "python",
   "name": "python3"
  },
  "language_info": {
   "codemirror_mode": {
    "name": "ipython",
    "version": 3
   },
   "file_extension": ".py",
   "mimetype": "text/x-python",
   "name": "python",
   "nbconvert_exporter": "python",
   "pygments_lexer": "ipython3",
   "version": "3.8.2"
  }
 },
 "nbformat": 4,
 "nbformat_minor": 4
}
